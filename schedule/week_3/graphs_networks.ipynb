{
 "cells": [
  {
   "cell_type": "markdown",
   "metadata": {},
   "source": [
    "Graphs and visualization\n",
    "========================\n",
    "\n",
    "A lot of the joy of digital humanities comes in handling our material in new ways, so that we see things we wouldn't have seen before. Quite literally.\n",
    "\n",
    "Some of the most useful tools for DH work are graphing tools! Today we will look at the basics of what a graph is and how you might build one, both manually and programmatically, and then name the tools to look into if you want to know more.\n",
    "\n",
    "Tools you'll need\n",
    "-----------------\n",
    "\n",
    "* Graphviz: http://www.graphviz.org\n",
    "* The graphviz module for Python: \n",
    "        pip install graphviz\n",
    "* The hierarchymagic extension for Jupyter notebook:\n",
    "        pip install git+https://github.com/tla/ipython-hierarchymagic.git\n"
   ]
  },
  {
   "cell_type": "markdown",
   "metadata": {},
   "source": [
    "So what can you do with graphs?\n",
    "\n",
    "<img src=\"https://i.embed.ly/1/display/resize?key=1e6a1a1efdb011df84894040444cdc60&url=http%3A%2F%2Fpbs.twimg.com%2Fmedia%2FBslvzfjIcAAW6Ro.png\">"
   ]
  },
  {
   "cell_type": "markdown",
   "metadata": {},
   "source": [
    "You can visualize relationships, networks, you name it.\n",
    "\n",
    "http://ckcc.huygens.knaw.nl/epistolarium/#\n",
    "\n",
    "\n",
    "The DOT graph language\n",
    "----------------------\n",
    "\n",
    "It's pretty easy to start building a graph, if you have the tools and a plain text editor. First you have to decide whether you want a *directed* or an *undirected* graph. If all the relationships you want to chart are symmetric and two-way (e.g. \"these words appear together\" or \"these people corresponded\", then it can be undirected. But if there is any asymmetry (e.g. in social networks - just because Tom is friends with Jane doesn't mean that Jane is friends with Tom!) then you want a directed graph.\n",
    "\n",
    "If you want to make a directed graph, it looks like this:\n",
    "\n",
    "    digraph \"My graph\" {\n",
    "        [... graph data goes here ...]\n",
    "    }\n",
    "    \n",
    "and if you want to make an undirected graph, it looks like this.\n",
    "\n",
    "    graph \"My graph\" {\n",
    "        [... graph data goes here ...]\n",
    "    }\n",
    "    \n",
    "Let's say we want to make that little two-person social network. In graph terms, you have *nodes* and *edges*. The edges are the relationships, and the nodes are the things (people, places, dogs, cats, whatever) that are related. The easiest way to express that is like this:\n",
    "\n",
    "    digraph \"My graph\" {\n",
    "        Tom -> Jane\n",
    "    }\n",
    "\n",
    "which says \"The node `Tom` is connected to the node `Jane`, in that direction.\" We plug that into Graphviz, and what do we get? Let's use a little iPython magic to find out.\n",
    "\n",
    "We are going to use an extension called 'hierarchymagic', which gives us the special `%%dot` command. Anytime you want to use graphs in Jupyter, this is how you do it."
   ]
  },
  {
   "cell_type": "code",
   "execution_count": null,
   "metadata": {
    "collapsed": true
   },
   "outputs": [],
   "source": [
    "# This is how you get the %%dot and %dotstr command that we use below.\n",
    "%load_ext hierarchymagic  "
   ]
  },
  {
   "cell_type": "markdown",
   "metadata": {},
   "source": [
    "Then you do this every time you want to make a graph. The `-f svg` says that it should make an SVG image, which is what I recommend."
   ]
  },
  {
   "cell_type": "code",
   "execution_count": null,
   "metadata": {},
   "outputs": [],
   "source": [
    "%%dot -f svg\n",
    "digraph \"My graph\" {\n",
    "    Tom -> Jane\n",
    "}"
   ]
  },
  {
   "cell_type": "markdown",
   "metadata": {},
   "source": [
    "Now maybe Tom has a friend too:\n",
    "\n",
    "    digraph \"My graph\" {\n",
    "        Tom -> Jane\n",
    "        Ben -> Tom\n",
    "        Tom -> Ben\n",
    "    }\n",
    "\n"
   ]
  },
  {
   "cell_type": "code",
   "execution_count": null,
   "metadata": {},
   "outputs": [],
   "source": [
    "%%dot -f svg\n",
    "digraph \"My graph\" {\n",
    "    Tom -> Jane\n",
    "    Ben -> Tom\n",
    "    Tom -> Ben\n",
    "}"
   ]
  },
  {
   "cell_type": "markdown",
   "metadata": {},
   "source": [
    "...And so on. But what if we do want a nice symmetrical undirected graph? That is even simpler. Instead of `digraph` we say `graph`, and instead of describing the connections with `->` we use `--` instead. If we have a model like Facebook where friendship is always two-way, we can do this:\n",
    "\n",
    "    graph \"My graph\" {\n",
    "        Tom -- Jane\n",
    "        Ben -- Tom\n",
    "    }\n",
    "\n",
    "Note that we don't need the third line (`Tom -- Ben`) because it is now the same as saying `Ben -- Tom`.\n",
    "\n",
    "Since this is an undirected graph, we want it to be laid out a little differently (not just straight up-and-down.) For this we can specify a different layout engine as a *graph attribute*. The options are `dot` (the default), `neato`, `twopi`, `circo`, `fdp`, and `sfdp`; they all take different approaches and you are welcome to play around with each one."
   ]
  },
  {
   "cell_type": "code",
   "execution_count": null,
   "metadata": {},
   "outputs": [],
   "source": [
    "%%dot -f svg\n",
    "graph \"My graph\" {\n",
    "    graph [layout=neato]\n",
    "    Tom -- Jane\n",
    "    Ben -- Tom\n",
    "}"
   ]
  },
  {
   "cell_type": "code",
   "execution_count": null,
   "metadata": {},
   "outputs": [],
   "source": [
    "%%dot -f svg\n",
    "graph \"My graph\" {\n",
    "    layout=fdp\n",
    "    Tom -- Jane\n",
    "    Ben -- Tom\n",
    "}"
   ]
  },
  {
   "cell_type": "markdown",
   "metadata": {},
   "source": [
    "You can change the font, the shape of the nodes, the colors of the links, and so on by setting attributes in square brackets. Attributes can be set for the graph, for all nodes, for all edges, and for individual nodes and edges. All the different attribute options can be read about [here](http://www.graphviz.org/doc/info/attrs.html)."
   ]
  },
  {
   "cell_type": "code",
   "execution_count": null,
   "metadata": {},
   "outputs": [],
   "source": [
    "%%dot -f svg\n",
    "graph \"My pretty graph\" {\n",
    "    graph [layout=neato, bgcolor=black]\n",
    "    node [shape=plain, fontcolor=white, fontname=Helvetica]\n",
    "    Jane [fontcolor=red]\n",
    "    Tom -- Jane [color=green]\n",
    "    Jane -- Ben [color=green]    \n",
    "}"
   ]
  },
  {
   "cell_type": "markdown",
   "metadata": {},
   "source": [
    "Of course, this would hardly be fun if we couldn't do it programmatically!\n",
    "\n",
    "Building graphs with Graphviz + Python\n",
    "--------------------------------------\n",
    "\n",
    "Now we are going to make a few graphs, not by writing out dot, but by making a *graph object* that holds our nodes and edges. We do this with the `graphviz` module. "
   ]
  },
  {
   "cell_type": "code",
   "execution_count": null,
   "metadata": {
    "collapsed": true
   },
   "outputs": [],
   "source": [
    "import graphviz     # Use the Python graphviz library"
   ]
  },
  {
   "cell_type": "markdown",
   "metadata": {},
   "source": [
    "We make a new directed graph with `graphviz.Digraph()`, and a new undirected graph with `graphviz.Graph()`."
   ]
  },
  {
   "cell_type": "code",
   "execution_count": null,
   "metadata": {
    "collapsed": true
   },
   "outputs": [],
   "source": [
    "my_graph = graphviz.Digraph()"
   ]
  },
  {
   "cell_type": "markdown",
   "metadata": {},
   "source": [
    "Let's make a social network graph of five friends, all of whom like each other. But instead of typing out all those\n",
    "\n",
    "    Anna -> Ben\n",
    "    \n",
    "sorts of lines, we will let the program do that for us."
   ]
  },
  {
   "cell_type": "code",
   "execution_count": null,
   "metadata": {},
   "outputs": [],
   "source": [
    "# Our list of friends\n",
    "all_friends = [ 'Jane', 'Ben', 'Tom', 'Anna', 'Charlotte' ]\n",
    "\n",
    "# Make them all friends with each other.\n",
    "# As long as there are at least two people left in the list of friends...\n",
    "while len( all_friends ) > 1:\n",
    "    this_friend = all_friends.pop() # Remove the last name from the list\n",
    "    for friend in all_friends:      # Cycle through whoever is left and make them friends with each other\n",
    "        my_graph.edge( this_friend, friend )  # I like you\n",
    "        my_graph.edge( friend, this_friend )  # You like me\n",
    "\n",
    "# Spit out the graph in its DOT format\n",
    "print(my_graph.source)"
   ]
  },
  {
   "cell_type": "markdown",
   "metadata": {},
   "source": [
    "And here is a little iPython magic function so that we can actually make the graph display right here in the notebook. This means that, instead of copy-pasting what you see above into a new cell, you can just ask IPython to do the copy-pasting for you! \n",
    "\n",
    "Don't worry too much about understanding this (unless you want to!) but we will use it a little farther down. "
   ]
  },
  {
   "cell_type": "code",
   "execution_count": null,
   "metadata": {},
   "outputs": [],
   "source": [
    "%dotstr -f svg\n",
    "my_graph"
   ]
  },
  {
   "cell_type": "markdown",
   "metadata": {},
   "source": [
    "Basic usage for the Graphviz python library\n",
    "-------------------------------------------\n",
    "\n",
    "So here is a short summary of what we did above that you will want to remember:"
   ]
  },
  {
   "cell_type": "code",
   "execution_count": null,
   "metadata": {},
   "outputs": [],
   "source": [
    "import graphviz;\n",
    "\n",
    "this_graph = graphviz.Digraph()    # start your directed graph\n",
    "this_undirected = graphviz.Graph() # ...or your undirected graph\n",
    "\n",
    "this_graph.edge( \"me\", \"you\" )   # Add a relationship between me and you\n",
    "this_undirected.edge( \"me\", \"you\" )\n",
    "\n",
    "print(this_graph.source)       # Print out the dot.\n",
    "print(this_undirected.source)"
   ]
  },
  {
   "cell_type": "markdown",
   "metadata": {},
   "source": [
    "Labels and IDs\n",
    "--------------\n",
    "\n",
    "When you are making a graph, it is important that every node be unique - if you have two people named Tom, then the graph program will have no idea which Tom is friends with Anna. So how do you handle having two people named Tom, without resorting to last names or AHV numbers or something like that?\n",
    "\n",
    "You use *attributes* in the graph, and specifically the *label* attribute. It looks something like this:\n",
    "\n",
    "    graph G {\n",
    "        Tom1 [ label=\"Tom\" ]\n",
    "        Tom2 [ label=\"Tom\" ]\n",
    "        Tom1 -- Anna\n",
    "        Tom1 -- Tom2\n",
    "    }\n",
    "\n",
    "Before this, we only named our nodes when we needed them to define a relationship (an edge). But if we need to give any extra information about a node, such as a label, then we have to list it first, on its own line, with the extra information between the square brackets.\n",
    "\n",
    "There are a whole lot of options for things you might want to define! Most of them have to do with how the graph should look, and we will look at them in a minute. For now, this is what we get for this graph:"
   ]
  },
  {
   "cell_type": "code",
   "execution_count": null,
   "metadata": {},
   "outputs": [],
   "source": [
    "lg = graphviz.Graph()   # Make this one undirected\n",
    "lg.graph_attr['layout'] = 'neato'\n",
    "lg.node( \"Tom1\", label=\"Tom Baker\" )\n",
    "lg.node( \"Tom2\", label=\"Tom Riddle\" )\n",
    "lg.edge( \"Tom1\", \"Anna\", label=\"siblings\" )\n",
    "lg.edge( \"Tom1\", \"Tom2\", label=\"friends\" )\n",
    "\n",
    "%dotstr -f svg\n",
    "lg"
   ]
  },
  {
   "cell_type": "markdown",
   "metadata": {},
   "source": [
    "Notice, in this, that Anna still popped into existence when we referred to her in a relationship. But in the real world, we will probably want to declare our nodes with (for example) student numbers as the unique identifier, and names for display in the graph.\n",
    "\n",
    "Styling the graph\n",
    "-----------------\n",
    "\n",
    "We can also set attributes on a graph using Python. Imagine that we want a graph that displays the relationships between members of a family and where they go each day.\n",
    "\n",
    "Here's how we can do that in python, and what we get."
   ]
  },
  {
   "cell_type": "code",
   "execution_count": null,
   "metadata": {},
   "outputs": [],
   "source": [
    "copying_relations = [\n",
    "  (\"O\", \"a\"),\n",
    "  (\"O\", \"b\"),\n",
    "  (\"a\", \"Au318\"),\n",
    "  (\"a\", \"Go325\"),\n",
    "  (\"a\", \"Gr314\"),\n",
    "  (\"a\", \"f\"),\n",
    "  (\"a\", \"g\"),\n",
    "  (\"b\", \"Au318\"),\n",
    "  (\"b\", \"Ba96\"),\n",
    "  (\"b\", \"Go325\"),\n",
    "  (\"b\", \"Gr314\"),\n",
    "  (\"b\", \"Sg524\"),\n",
    "  (\"b\", \"c\"),\n",
    "  (\"c\", \"An74\"),\n",
    "  (\"c\", \"MuU151\"),\n",
    "  (\"c\", \"d\"),\n",
    "  (\"d\", \"Mu11475\"),\n",
    "  (\"d\", \"e\"),\n",
    "  (\"e\", \"Er16\"),\n",
    "  (\"e\", \"Mu28315\"),\n",
    "  (\"f\", \"Krems299\"),\n",
    "  (\"f\", \"h\"),\n",
    "  (\"g\", \"Mu22405\"),\n",
    "  (\"g\", \"Wi3181\"),\n",
    "  (\"h\", \"Kf133\"),\n",
    "  (\"h\", \"Krems185\"),\n",
    "  (\"Krems185\", \"b\"),\n",
    "  (\"Krems299\", \"Mu22405\")]\n",
    "\n",
    "# Make a set of our witnesses so we can list them out with their attributes\n",
    "witnesses = set()\n",
    "for source, target in copying_relations:\n",
    "    witnesses.add(source)\n",
    "    witnesses.add(target)\n",
    "\n",
    "# Make our stemma graph\n",
    "stemma = graphviz.Digraph()\n",
    "stemma.edge_attr['arrowhead'] = \"none\"\n",
    "\n",
    "# Add our nodes\n",
    "for witness in witnesses:\n",
    "    if len(witness) == 1:  # It is a hypothetical / reconstructed witness\n",
    "        stemma.node(witness, fontcolor=\"grey\", fontsize=\"11\")\n",
    "    else:\n",
    "        stemma.node(witness)\n",
    "\n",
    "# Add our edges\n",
    "for source, target in copying_relations:\n",
    "    stemma.edge(source, target)\n",
    "\n",
    "# Make the cell with the dot\n",
    "%dotstr -f svg\n",
    "stemma"
   ]
  },
  {
   "cell_type": "markdown",
   "metadata": {},
   "source": [
    "All done! There are a huge number of styling attributes - ways to control line thickness, color, shape, graph direction, and so on. They are documented in eye-watering detail here:\n",
    "\n",
    "http://www.graphviz.org/content/attrs"
   ]
  },
  {
   "cell_type": "code",
   "execution_count": null,
   "metadata": {
    "collapsed": true
   },
   "outputs": [],
   "source": []
  }
 ],
 "metadata": {
  "anaconda-cloud": {},
  "kernelspec": {
   "display_name": "Python [default]",
   "language": "python",
   "name": "python3"
  },
  "language_info": {
   "codemirror_mode": {
    "name": "ipython",
    "version": 3
   },
   "file_extension": ".py",
   "mimetype": "text/x-python",
   "name": "python",
   "nbconvert_exporter": "python",
   "pygments_lexer": "ipython3",
   "version": "3.5.3"
  }
 },
 "nbformat": 4,
 "nbformat_minor": 1
}
