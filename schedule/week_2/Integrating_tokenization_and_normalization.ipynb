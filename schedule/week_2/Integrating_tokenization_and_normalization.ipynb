{
 "cells": [
  {
   "cell_type": "markdown",
   "metadata": {},
   "source": [
    "# Integrating normalization with tokenization\n",
    "\n",
    "## Structure"
   ]
  },
  {
   "cell_type": "code",
   "execution_count": 7,
   "metadata": {
    "collapsed": false
   },
   "outputs": [
    {
     "name": "stdout",
     "output_type": "stream",
     "text": [
      "<?xml version=\"1.0\" encoding=\"UTF-8\"?>\n",
      "<text>\n",
      "    <body>\n",
      "        <p>- Comment trouvez-vous cette nouve<del>e</del><add>l</add>le <del>e</del>invention, ce\n",
      "            film en re<lb rend=\"hyphen\"/>lief ? demandait Van Truggel, le directeur du cinéma\n",
      "            \"Apollon\" à <lb/>l'opérateur qui enlevait les bobines. </p>\n",
      "    </body>\n",
      "</text>\n",
      "\n"
     ]
    }
   ],
   "source": [
    "def tokenize(input):\n",
    "    pass\n",
    "\n",
    "def normalize(input):\n",
    "    pass\n",
    "\n",
    "sample = open(\"/Users/ellibleeker/Documents/huygens-huc/NEH-Institute/Workspace/brulez/aladdin/aladdin-fr-ts1.xml\", encoding='utf-8').read()\n",
    "# print(sample)\n",
    "tokens = tokenize(sample)\n",
    "print(tokens)\n",
    "# normalized = [normalize(token) for token in tokens]\n",
    "# print(normalized)"
   ]
  },
  {
   "cell_type": "markdown",
   "metadata": {},
   "source": [
    "## Examples\n",
    "\n",
    "### Tokenize on white space and normalize as lower case"
   ]
  },
  {
   "cell_type": "code",
   "execution_count": 16,
   "metadata": {
    "collapsed": false
   },
   "outputs": [
    {
     "ename": "FileNotFoundError",
     "evalue": "[Errno 2] No such file or directory: 'aladdin-fr-ts1.xml'",
     "output_type": "error",
     "traceback": [
      "\u001b[0;31m---------------------------------------------------------------------------\u001b[0m",
      "\u001b[0;31mFileNotFoundError\u001b[0m                         Traceback (most recent call last)",
      "\u001b[0;32m<ipython-input-16-38ea383bd19a>\u001b[0m in \u001b[0;36m<module>\u001b[0;34m()\u001b[0m\n\u001b[1;32m      5\u001b[0m     \u001b[0;32mreturn\u001b[0m \u001b[0;34m(\u001b[0m\u001b[0minput\u001b[0m\u001b[0;34m,\u001b[0m \u001b[0minput\u001b[0m\u001b[0;34m.\u001b[0m\u001b[0mlower\u001b[0m\u001b[0;34m(\u001b[0m\u001b[0;34m)\u001b[0m\u001b[0;34m)\u001b[0m\u001b[0;34m\u001b[0m\u001b[0m\n\u001b[1;32m      6\u001b[0m \u001b[0;34m\u001b[0m\u001b[0m\n\u001b[0;32m----> 7\u001b[0;31m \u001b[0msample\u001b[0m \u001b[0;34m=\u001b[0m \u001b[0mopen\u001b[0m\u001b[0;34m(\u001b[0m\u001b[0;34m\"aladdin-fr-ts1.xml\"\u001b[0m\u001b[0;34m,\u001b[0m \u001b[0mencoding\u001b[0m\u001b[0;34m=\u001b[0m\u001b[0;34m'utf-8'\u001b[0m\u001b[0;34m)\u001b[0m\u001b[0;34m.\u001b[0m\u001b[0mread\u001b[0m\u001b[0;34m(\u001b[0m\u001b[0;34m)\u001b[0m\u001b[0;34m\u001b[0m\u001b[0m\n\u001b[0m\u001b[1;32m      8\u001b[0m \u001b[0mtokens\u001b[0m \u001b[0;34m=\u001b[0m \u001b[0mtokenize\u001b[0m\u001b[0;34m(\u001b[0m\u001b[0msample\u001b[0m\u001b[0;34m)\u001b[0m\u001b[0;34m\u001b[0m\u001b[0m\n\u001b[1;32m      9\u001b[0m \u001b[0mprint\u001b[0m\u001b[0;34m(\u001b[0m\u001b[0mtokens\u001b[0m\u001b[0;34m)\u001b[0m\u001b[0;34m\u001b[0m\u001b[0m\n",
      "\u001b[0;31mFileNotFoundError\u001b[0m: [Errno 2] No such file or directory: 'aladdin-fr-ts1.xml'"
     ]
    }
   ],
   "source": [
    "def tokenize(input): # tokenize on white space\n",
    "    return input.split()\n",
    "\n",
    "def normalize(input): # normalize as lower case\n",
    "    return (input, input.lower())\n",
    "\n",
    "sample = open(\"/Users/ellibleeker/Documents/huygens-huc/NEH-Institute/Workspace/brulez/aladdin/aladdin-fr-ts1.xml\", encoding='utf-8').read()\n",
    "tokens = tokenize(sample)\n",
    "print(tokens)\n",
    "# normalized = [normalize(token) for token in tokens]\n",
    "# print(normalized)"
   ]
  },
  {
   "cell_type": "markdown",
   "metadata": {},
   "source": [
    "### Use NLTK word tokenization and normalize as POS"
   ]
  },
  {
   "cell_type": "code",
   "execution_count": 14,
   "metadata": {
    "collapsed": false
   },
   "outputs": [
    {
     "ename": "FileNotFoundError",
     "evalue": "[Errno 2] No such file or directory: '~/Workspace/brulez/aladdin/aladdin-fr-ts1.xml'",
     "output_type": "error",
     "traceback": [
      "\u001b[0;31m---------------------------------------------------------------------------\u001b[0m",
      "\u001b[0;31mFileNotFoundError\u001b[0m                         Traceback (most recent call last)",
      "\u001b[0;32m<ipython-input-14-0c5491cd3379>\u001b[0m in \u001b[0;36m<module>\u001b[0;34m()\u001b[0m\n\u001b[1;32m      9\u001b[0m     \u001b[0;32mreturn\u001b[0m \u001b[0;34m(\u001b[0m\u001b[0mpos\u001b[0m\u001b[0;34m)\u001b[0m \u001b[0;31m# default return of NLTK is word and POS\u001b[0m\u001b[0;34m\u001b[0m\u001b[0m\n\u001b[1;32m     10\u001b[0m \u001b[0;34m\u001b[0m\u001b[0m\n\u001b[0;32m---> 11\u001b[0;31m \u001b[0msample\u001b[0m \u001b[0;34m=\u001b[0m \u001b[0mopen\u001b[0m\u001b[0;34m(\u001b[0m\u001b[0;34m\"~/Workspace/brulez/aladdin/aladdin-fr-ts1.xml\"\u001b[0m\u001b[0;34m,\u001b[0m \u001b[0mencoding\u001b[0m\u001b[0;34m=\u001b[0m\u001b[0;34m'utf-8'\u001b[0m\u001b[0;34m)\u001b[0m\u001b[0;34m.\u001b[0m\u001b[0mread\u001b[0m\u001b[0;34m(\u001b[0m\u001b[0;34m)\u001b[0m\u001b[0;34m\u001b[0m\u001b[0m\n\u001b[0m\u001b[1;32m     12\u001b[0m \u001b[0mtokens\u001b[0m \u001b[0;34m=\u001b[0m \u001b[0mtokenize\u001b[0m\u001b[0;34m(\u001b[0m\u001b[0msample\u001b[0m\u001b[0;34m)\u001b[0m\u001b[0;34m\u001b[0m\u001b[0m\n\u001b[1;32m     13\u001b[0m \u001b[0mprint\u001b[0m\u001b[0;34m(\u001b[0m\u001b[0mtokens\u001b[0m\u001b[0;34m)\u001b[0m\u001b[0;34m\u001b[0m\u001b[0m\n",
      "\u001b[0;31mFileNotFoundError\u001b[0m: [Errno 2] No such file or directory: '~/Workspace/brulez/aladdin/aladdin-fr-ts1.xml'"
     ]
    }
   ],
   "source": [
    "import nltk\n",
    "\n",
    "def tokenize(input): # use NLTK word tokenization\n",
    "    return nltk.word_tokenize(input)\n",
    "\n",
    "def normalize(input): # normalize as POS\n",
    "    pos = nltk.pos_tag([input]) # since it’s a single word, make it a list (NLTK expects a list)\n",
    "# print(pos)\n",
    "    return (pos) # default return of NLTK is word and POS\n",
    "\n",
    "sample = open(\"/Users/ellibleeker/Documents/huygens-huc/NEH-Institute/Workspace/brulez/aladdin/aladdin-fr-ts1.xml\", encoding='utf-8').read()\n",
    "tokens = tokenize(sample)\n",
    "print(tokens)\n",
    "# normalized = [normalize(token) for token in tokens]\n",
    "# print(normalized)"
   ]
  },
  {
   "cell_type": "markdown",
   "metadata": {},
   "source": [
    "### Use NLTK word tokenization and strip vowels and punctuation to normalize"
   ]
  },
  {
   "cell_type": "code",
   "execution_count": null,
   "metadata": {
    "collapsed": false
   },
   "outputs": [],
   "source": [
    "import re\n",
    "\n",
    "def tokenize(input): # use NLTK word tokenization\n",
    "    return nltk.word_tokenize(input)\n",
    "\n",
    "def normalize(input): # normalize as POS\n",
    "    return (input, re.sub('[AEIOUaeiou]','',input))\n",
    "\n",
    "sample = \"Hello, Mom!\"\n",
    "tokens = tokenize(sample)\n",
    "# print(tokens)\n",
    "normalized = [normalize(token) for token in tokens]\n",
    "print(normalized)"
   ]
  }
 ],
 "metadata": {
  "kernelspec": {
   "display_name": "Python [Root]",
   "language": "python",
   "name": "Python [Root]"
  },
  "language_info": {
   "codemirror_mode": {
    "name": "ipython",
    "version": 3
   },
   "file_extension": ".py",
   "mimetype": "text/x-python",
   "name": "python",
   "nbconvert_exporter": "python",
   "pygments_lexer": "ipython3",
   "version": "3.5.2"
  }
 },
 "nbformat": 4,
 "nbformat_minor": 2
}
