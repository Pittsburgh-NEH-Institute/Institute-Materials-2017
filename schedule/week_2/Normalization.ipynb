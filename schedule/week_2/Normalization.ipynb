{
 "cells": [
  {
   "cell_type": "markdown",
   "metadata": {},
   "source": [
    "# Normalization\n",
    "\n",
    "## Normalization within the Gothenburg model\n",
    "\n",
    "The Gothenburg model of textual variation conceptualizes the analysis of variation as a five-stage computational pipeline, as follows:\n",
    "\n",
    "1. **Tokenization:** divide the texts to be collated into *tokens* (most commonly words)\n",
    "2. **Normalization:** remove insignificant variation before comparison (but don’t throw it away!)\n",
    "3. **Alignment:** find the optimal alignment of corresponding sequences of tokens in the witnesses\n",
    "4. **Analysis:** Fine-tune the results using computational methods\n",
    "5. **Visualization:** Create output in a format that makes sense to a human\n",
    "\n",
    "In fact, normalization happens in at least three places:\n",
    "\n",
    "1. During initial *transcription*, when the human converts analog handwriting or other input to characters\n",
    "2. During the official *normalization* stage\n",
    "3. During the *analysis* stage, for example, to resolve ambiguities by using *near (fuzzy) matching)\n",
    "\n",
    "The Gothenburg model was developed as a pipeline for collation, but some of the step are common components in other computational pipelines used in textual editing. For example, if you need to deal with individual words, you need tokenization, and as we’ll see shortly, normalization can be interpreted very broadly as adding properties (not just orthographic normalization) to the tokens.\n",
    "\n",
    "## Default and custom normalization\n",
    "\n",
    "At the *alignment* stage, CollateX identifies the tokens to align by comparing them character by character in order to determine whether they are identical or not. At this stage of the process, CollateX cannot recognize when two strings are similar, but not identical, and tokens that are at all different are treated the same way regardless of where they fall on the scale between having no characters in common and having all but one character in common.\n",
    "\n",
    "By default, CollateX assumes that uppercase and lowercase letters should be considered different for alignment purposes, it doesn’t know whether you want differences in punctuation (or the presence vs. absence of punctuation) to be regarded as a textual difference during collation, and in situations where you can represent the same character in more than one way (e.g., “á” might be encoded as either a single a-with-acute-accent character, or as a sequence of two characters: a regular “a” and a floating acute diacritic that is rendered over it), it doesn’t know that a human considers these two representations to be informationally identical. Telling CollateX which systematic differences should be ignored during alignment is the responsibility of the *normalization* stage of the Gothenburg model.\n",
    "\n",
    "The Gothenburg model separates this *normalization* or *regularization* (stage 2) from the alignment itself (stage 3). The reason for this division lies in the general modular philosophy of the Gothenburg model, which is designed to make it possible for users to modify one operation (such as normalization) without having to intervene in any other (such as alignment). \n",
    "\n",
    "By default, CollateX ignores trailing whitespace for alignment purposes, so that, for example, it will treat “koala” (five characters) as identical to “koala ” (six characters, including a trailing space). While we might describe this casually by saying that CollateX ignores trailing whitespace during alignment, a more accurate description is that the special treatment of trailing whitespace is the default *normalization* (Gothenburg stage 2) built into CollateX, that it happens before alignment (stage 3), and alignment then operates on the normalized forms. It may be helpful to think of a normalized form as a *shadow* of a token; CollateX creates the shadow and uses it as the basis for subsequent alignment decisions, but the user typically never sees it, and only the original non-normalized token is output during visualization (stage 5). The Gothenburg model says that we should be able to intervene in normalization to replace the default action with our own rules, and CollateX is designed with hooks to facilitate that intervention. In this notebook we examine three simple normalizations: trailing whitespace (the default behavior), case folding, and punctuation. In the next unit we move on to more complex normalization tasks.\n",
    "\n",
    "## Whitespace normalization\n",
    "\n",
    "As is noted above, by default, when CollateX tokenizes (that is, divides the text into tokens, which are typically words, on white space), it includes trailing whitespace as part of the preceding token. This makes it possible to reconstruct the string before tokenization, complete with whitespace between words, simply by outputting the tokens. But the whitespace is removed from the normalized shadow copy, so that words will match whether they are followed by whitespace or not (for example, a word might be at the end of the input, or it might be followed immediately by punctuation). This is typically the behavior that users want, which means that CollateX can be allowed to take care of it without modification, but here are two unusual but real exceptions:\n",
    "\n",
    "* Because normalization is managed as an integral module, you can use it as is or replace it, but you can’t keep what’s there and add additional features. If you want to keep the results of the default whitespace normalization and also perform additional normalization of your own, you have to integrate a recreation of the whitespace normalization into your custom routine. We illustrate that below.\n",
    "* For genetic editing of typescripts with close diplomatic transcriptions, you may wish to record differences in whitespace (e.g., one space vs two after a sentence) as variation. The default behavior ignores all trailing whitespace, so if you want differences of this sort to function as variants, you need to write your own whitespace handler.\n",
    "\n",
    "## Case normalization\n",
    "\n",
    "Consider the following example:"
   ]
  },
  {
   "cell_type": "code",
   "execution_count": null,
   "metadata": {
    "collapsed": false
   },
   "outputs": [],
   "source": [
    "from collatex import *\n",
    "collation = Collation()\n",
    "collation.add_plain_witness('A', 'Look, a koala!')\n",
    "collation.add_plain_witness('B', 'Look, Koala!')\n",
    "alignment_table = collate(collation, segmentation=False)\n",
    "print(alignment_table)"
   ]
  },
  {
   "cell_type": "markdown",
   "metadata": {},
   "source": [
    "In the example above, CollateX fails to recognize that “koala” in lower-case should be aligned with “Koala” with an upper-case first letter. We can fix that by supplying our own normalization, and the structure CollateX expects when the user performs the normalization is that each token should be represented by a Python dictionary with two properties: \"t\" (for *text*) and \"n\" (for *normalization*). For example, if we want the normalization to be lower-case, we might represent “Koala” as `{\"t\": \"Koala\", \"n\": \"koala\"}`, where the \"n\" value is entirely lower-case. If we want to tell CollateX to ignore case, then, instead of feeding it the plain-text witnesses directly, we can preprocess them to create the dictionary structure and use that as the input to the alignment process. We describe how to do that in Unit 7, but here is an example of the output:"
   ]
  },
  {
   "cell_type": "code",
   "execution_count": 2,
   "metadata": {
    "collapsed": false
   },
   "outputs": [
    {
     "name": "stdout",
     "output_type": "stream",
     "text": [
      "+---+------+---+---+-------+---+\n",
      "| A | Look | , | a | koala | ! |\n",
      "| B | Look | , | - | Koala | ! |\n",
      "+---+------+---+---+-------+---+\n",
      "{'witnesses': [{'id': 'A', 'tokens': [{'t': 'Look', 'n': 'look'}, {'t': ', ', 'n': ','}, {'t': 'a ', 'n': 'a'}, {'t': 'koala', 'n': 'koala'}, {'t': '!', 'n': '!'}]}, {'id': 'B', 'tokens': [{'t': 'Look', 'n': 'look'}, {'t': ', ', 'n': ','}, {'t': 'Koala', 'n': 'koala'}, {'t': '!', 'n': '!'}]}]}\n"
     ]
    }
   ],
   "source": [
    "import re\n",
    "from collatex import *\n",
    "collation = Collation()\n",
    "def processToken(inputText):\n",
    "    return {\"t\": inputText, \"n\": re.sub('\\s+$', '', inputText.upper())}\n",
    "def processWitness(inputText):\n",
    "    siglum, rdg = inputText\n",
    "    return {\"id\": siglum, \"tokens\": \\\n",
    "            [processToken(token) for token in re.findall(r'\\w+\\s*|\\W+', rdg)]}\n",
    "witnesses = [('A', 'Look, a koala!'), ('B', 'Look, Koala!')]\n",
    "collation = {\"witnesses\": [processWitness(witness) for witness in witnesses]}\n",
    "alignment_table = collate(collation, segmentation=False)\n",
    "print(alignment_table)\n",
    "print(collation)"
   ]
  },
  {
   "cell_type": "markdown",
   "metadata": {},
   "source": [
    "## Whitespace normalization\n",
    "\n",
    "In the code above, we mimic the default CollateX tokenization, so that the only part of the Gothenburg model that we modify is the normalization. We keep the default behavior of truncating trailing whitespace in the normalization (that’s the effect of the `re.sub()` function), but we also lowercase it. We can see the effect of the normalization by examining the input dictionary that we build:"
   ]
  },
  {
   "cell_type": "code",
   "execution_count": null,
   "metadata": {
    "collapsed": false,
    "scrolled": true
   },
   "outputs": [],
   "source": [
    "print(collation)"
   ]
  },
  {
   "cell_type": "markdown",
   "metadata": {},
   "source": [
    "Note that all text in the \"n\" values is lowercase, and that although some \"t\" values have trailing whitespace, none of the \"n\" values do.\n",
    "\n",
    "## Punctuation normalization\n",
    "\n",
    "The default CollateX behavior of treating punctuation as its own token ensures that words that differ only in their trailing punctuation will be understood as equivalent. Although the punctuation may differ, it will typically be aligned correctly because it is adjacent to words that are aligned. But if we we’re creating, for example, SVG graph output, we may not care about variation that affects only punctuation, and if that’s the case, we can customize our normalization routine to shape the result.\n",
    "\n",
    "### segmentation=False\n",
    "\n",
    "The CollateX `collate()` function accepts a `segmentation` argument, where the value False means to report each token as a separate alignment point. For example:"
   ]
  },
  {
   "cell_type": "code",
   "execution_count": 3,
   "metadata": {
    "collapsed": false
   },
   "outputs": [
    {
     "name": "stdout",
     "output_type": "stream",
     "text": [
      "+---+-----+---+----+---+----+-------+\n",
      "| A | Yes | , | no | , | or | maybe |\n",
      "| B | Yes | ; | no | ; | or | maybe |\n",
      "+---+-----+---+----+---+----+-------+\n"
     ]
    }
   ],
   "source": [
    "from collatex import *\n",
    "collation = Collation()\n",
    "collation.add_plain_witness('A', 'Yes, no, or maybe')\n",
    "collation.add_plain_witness('B', 'Yes; no; or maybe')\n",
    "alignment_table = collate(collation, segmentation=False)\n",
    "print(alignment_table)"
   ]
  },
  {
   "cell_type": "markdown",
   "metadata": {},
   "source": [
    "With the `segmentation` value set to False, CollateX reports that this text has 6 variation points. If the researcher doesn’t care about variation that affects only punctuation, finding the 4 that involve letters and ignoring the 2 that involve only punctuation is difficult. And if we’re generating graph output, the variation in punctuation is reported explicitly as variation, even if we don’t regard it as such:"
   ]
  },
  {
   "cell_type": "code",
   "execution_count": 4,
   "metadata": {
    "collapsed": false
   },
   "outputs": [
    {
     "data": {
      "image/svg+xml": [
       "<svg height=\"139pt\" viewBox=\"0.00 0.00 952.00 139.00\" width=\"952pt\" xmlns=\"http://www.w3.org/2000/svg\" xmlns:xlink=\"http://www.w3.org/1999/xlink\">\n",
       "<g class=\"graph\" id=\"graph0\" transform=\"scale(1 1) rotate(0) translate(4 135)\">\n",
       "<title>%3</title>\n",
       "<polygon fill=\"white\" points=\"-4,4 -4,-135 948,-135 948,4 -4,4\" stroke=\"none\"/>\n",
       "<!-- 1 -->\n",
       "<g class=\"node\" id=\"node1\"><title>1</title>\n",
       "<polygon fill=\"none\" points=\"944,-93 890,-93 890,-57 944,-57 944,-93\" stroke=\"black\"/>\n",
       "<text font-family=\"Times,serif\" font-size=\"14.00\" text-anchor=\"middle\" x=\"917\" y=\"-70.8\">1</text>\n",
       "</g>\n",
       "<!-- 2 -->\n",
       "<g class=\"node\" id=\"node2\"><title>2</title>\n",
       "<polygon fill=\"none\" points=\"310,-119.5 244,-119.5 244,-68.5 310,-68.5 310,-119.5\" stroke=\"black\"/>\n",
       "<polygon fill=\"none\" points=\"253,-93 253,-114 267,-114 267,-93 253,-93\" stroke=\"black\"/>\n",
       "<text font-family=\"Times,serif\" font-size=\"14.00\" font-weight=\"bold\" text-anchor=\"start\" x=\"256\" y=\"-100.3\">;</text>\n",
       "<polygon fill=\"none\" points=\"267,-93 267,-114 301,-114 301,-93 267,-93\" stroke=\"black\"/>\n",
       "<text font-family=\"Times,serif\" font-size=\"14.00\" font-weight=\"bold\" text-anchor=\"start\" x=\"269.61\" y=\"-100.3\">Sigla</text>\n",
       "<polygon fill=\"none\" points=\"253,-73 253,-93 267,-93 267,-73 253,-73\" stroke=\"black\"/>\n",
       "<text font-family=\"Bukyvede\" font-size=\"14.00\" text-anchor=\"start\" x=\"256\" y=\"-78.8\">; </text>\n",
       "<polygon fill=\"none\" points=\"267,-73 267,-93 301,-93 301,-73 267,-73\" stroke=\"black\"/>\n",
       "<text font-family=\"Times,serif\" font-size=\"14.00\" text-anchor=\"start\" x=\"270\" y=\"-78.8\">B</text>\n",
       "<polygon fill=\"none\" points=\"252,-72.5 252,-115.5 302,-115.5 302,-72.5 252,-72.5\" stroke=\"black\"/>\n",
       "</g>\n",
       "<!-- 5 -->\n",
       "<g class=\"node\" id=\"node5\"><title>5</title>\n",
       "<polygon fill=\"none\" points=\"430,-88.5 356,-88.5 356,-37.5 430,-37.5 430,-88.5\" stroke=\"black\"/>\n",
       "<polygon fill=\"none\" points=\"365,-62 365,-83 387,-83 387,-62 365,-62\" stroke=\"black\"/>\n",
       "<text font-family=\"Times,serif\" font-size=\"14.00\" font-weight=\"bold\" text-anchor=\"start\" x=\"368\" y=\"-69.3\">no</text>\n",
       "<polygon fill=\"none\" points=\"387,-62 387,-83 421,-83 421,-62 387,-62\" stroke=\"black\"/>\n",
       "<text font-family=\"Times,serif\" font-size=\"14.00\" font-weight=\"bold\" text-anchor=\"start\" x=\"389.61\" y=\"-69.3\">Sigla</text>\n",
       "<polygon fill=\"none\" points=\"365,-42 365,-62 387,-62 387,-42 365,-42\" stroke=\"black\"/>\n",
       "<text font-family=\"Bukyvede\" font-size=\"14.00\" text-anchor=\"start\" x=\"368\" y=\"-47.8\">no</text>\n",
       "<polygon fill=\"none\" points=\"387,-42 387,-62 421,-62 421,-42 387,-42\" stroke=\"black\"/>\n",
       "<text font-family=\"Times,serif\" font-size=\"14.00\" text-anchor=\"start\" x=\"390\" y=\"-47.8\">A, B</text>\n",
       "<polygon fill=\"none\" points=\"364,-41.5 364,-84.5 422,-84.5 422,-41.5 364,-41.5\" stroke=\"black\"/>\n",
       "</g>\n",
       "<!-- 2&#45;&gt;5 -->\n",
       "<g class=\"edge\" id=\"edge1\"><title>2-&gt;5</title>\n",
       "<path d=\"M310.059,-85.2823C321.172,-82.2603 333.861,-78.8098 345.879,-75.5416\" fill=\"none\" stroke=\"black\"/>\n",
       "<polygon fill=\"black\" points=\"347.037,-78.854 355.768,-72.8525 345.2,-72.0992 347.037,-78.854\" stroke=\"black\"/>\n",
       "<text font-family=\"Times,serif\" font-size=\"14.00\" text-anchor=\"middle\" x=\"333\" y=\"-82.8\">B</text>\n",
       "</g>\n",
       "<!-- 3 -->\n",
       "<g class=\"node\" id=\"node3\"><title>3</title>\n",
       "<polygon fill=\"none\" points=\"827.5,-100.5 726.5,-100.5 726.5,-49.5 827.5,-49.5 827.5,-100.5\" stroke=\"black\"/>\n",
       "<polygon fill=\"none\" points=\"736,-74 736,-95 785,-95 785,-74 736,-74\" stroke=\"black\"/>\n",
       "<text font-family=\"Times,serif\" font-size=\"14.00\" font-weight=\"bold\" text-anchor=\"start\" x=\"739\" y=\"-81.3\">maybe</text>\n",
       "<polygon fill=\"none\" points=\"785,-74 785,-95 819,-95 819,-74 785,-74\" stroke=\"black\"/>\n",
       "<text font-family=\"Times,serif\" font-size=\"14.00\" font-weight=\"bold\" text-anchor=\"start\" x=\"787.61\" y=\"-81.3\">Sigla</text>\n",
       "<polygon fill=\"none\" points=\"736,-54 736,-74 785,-74 785,-54 736,-54\" stroke=\"black\"/>\n",
       "<text font-family=\"Bukyvede\" font-size=\"14.00\" text-anchor=\"start\" x=\"739\" y=\"-59.8\">maybe</text>\n",
       "<polygon fill=\"none\" points=\"785,-54 785,-74 819,-74 819,-54 785,-54\" stroke=\"black\"/>\n",
       "<text font-family=\"Times,serif\" font-size=\"14.00\" text-anchor=\"start\" x=\"788\" y=\"-59.8\">A, B</text>\n",
       "<polygon fill=\"none\" points=\"734.5,-53.5 734.5,-96.5 819.5,-96.5 819.5,-53.5 734.5,-53.5\" stroke=\"black\"/>\n",
       "</g>\n",
       "<!-- 3&#45;&gt;1 -->\n",
       "<g class=\"edge\" id=\"edge2\"><title>3-&gt;1</title>\n",
       "<path d=\"M827.821,-75C844.883,-75 863.645,-75 879.46,-75\" fill=\"none\" stroke=\"black\"/>\n",
       "<polygon fill=\"black\" points=\"879.881,-78.5001 889.881,-75 879.881,-71.5001 879.881,-78.5001\" stroke=\"black\"/>\n",
       "<text font-family=\"Times,serif\" font-size=\"14.00\" text-anchor=\"middle\" x=\"859\" y=\"-77.8\">A, B</text>\n",
       "</g>\n",
       "<!-- 4 -->\n",
       "<g class=\"node\" id=\"node4\"><title>4</title>\n",
       "<polygon fill=\"none\" points=\"310,-50.5 244,-50.5 244,0.5 310,0.5 310,-50.5\" stroke=\"black\"/>\n",
       "<polygon fill=\"none\" points=\"253,-24 253,-45 267,-45 267,-24 253,-24\" stroke=\"black\"/>\n",
       "<text font-family=\"Times,serif\" font-size=\"14.00\" font-weight=\"bold\" text-anchor=\"start\" x=\"256\" y=\"-31.3\">,</text>\n",
       "<polygon fill=\"none\" points=\"267,-24 267,-45 301,-45 301,-24 267,-24\" stroke=\"black\"/>\n",
       "<text font-family=\"Times,serif\" font-size=\"14.00\" font-weight=\"bold\" text-anchor=\"start\" x=\"269.61\" y=\"-31.3\">Sigla</text>\n",
       "<polygon fill=\"none\" points=\"253,-4 253,-24 267,-24 267,-4 253,-4\" stroke=\"black\"/>\n",
       "<text font-family=\"Bukyvede\" font-size=\"14.00\" text-anchor=\"start\" x=\"256\" y=\"-9.8\">, </text>\n",
       "<polygon fill=\"none\" points=\"267,-4 267,-24 301,-24 301,-4 267,-4\" stroke=\"black\"/>\n",
       "<text font-family=\"Times,serif\" font-size=\"14.00\" text-anchor=\"start\" x=\"270\" y=\"-9.8\">A</text>\n",
       "<polygon fill=\"none\" points=\"252,-3.5 252,-46.5 302,-46.5 302,-3.5 252,-3.5\" stroke=\"black\"/>\n",
       "</g>\n",
       "<!-- 4&#45;&gt;5 -->\n",
       "<g class=\"edge\" id=\"edge3\"><title>4-&gt;5</title>\n",
       "<path d=\"M310.059,-35.6862C321.283,-39.4277 334.115,-43.7049 346.24,-47.7466\" fill=\"none\" stroke=\"black\"/>\n",
       "<polygon fill=\"black\" points=\"345.174,-51.0808 355.768,-50.9227 347.388,-44.44 345.174,-51.0808\" stroke=\"black\"/>\n",
       "<text font-family=\"Times,serif\" font-size=\"14.00\" text-anchor=\"middle\" x=\"333\" y=\"-46.8\">A</text>\n",
       "</g>\n",
       "<!-- 7 -->\n",
       "<g class=\"node\" id=\"node7\"><title>7</title>\n",
       "<polygon fill=\"none\" points=\"542,-131.5 476,-131.5 476,-80.5 542,-80.5 542,-131.5\" stroke=\"black\"/>\n",
       "<polygon fill=\"none\" points=\"485,-105 485,-126 499,-126 499,-105 485,-105\" stroke=\"black\"/>\n",
       "<text font-family=\"Times,serif\" font-size=\"14.00\" font-weight=\"bold\" text-anchor=\"start\" x=\"488\" y=\"-112.3\">;</text>\n",
       "<polygon fill=\"none\" points=\"499,-105 499,-126 533,-126 533,-105 499,-105\" stroke=\"black\"/>\n",
       "<text font-family=\"Times,serif\" font-size=\"14.00\" font-weight=\"bold\" text-anchor=\"start\" x=\"501.61\" y=\"-112.3\">Sigla</text>\n",
       "<polygon fill=\"none\" points=\"485,-85 485,-105 499,-105 499,-85 485,-85\" stroke=\"black\"/>\n",
       "<text font-family=\"Bukyvede\" font-size=\"14.00\" text-anchor=\"start\" x=\"488\" y=\"-90.8\">; </text>\n",
       "<polygon fill=\"none\" points=\"499,-85 499,-105 533,-105 533,-85 499,-85\" stroke=\"black\"/>\n",
       "<text font-family=\"Times,serif\" font-size=\"14.00\" text-anchor=\"start\" x=\"502\" y=\"-90.8\">B</text>\n",
       "<polygon fill=\"none\" points=\"484,-84.5 484,-127.5 534,-127.5 534,-84.5 484,-84.5\" stroke=\"black\"/>\n",
       "</g>\n",
       "<!-- 5&#45;&gt;7 -->\n",
       "<g class=\"edge\" id=\"edge4\"><title>5-&gt;7</title>\n",
       "<path d=\"M430.07,-76.6055C441.486,-80.9113 454.202,-85.7077 465.996,-90.1563\" fill=\"none\" stroke=\"black\"/>\n",
       "<polygon fill=\"black\" points=\"465.045,-93.5385 475.637,-93.7929 467.516,-86.9889 465.045,-93.5385\" stroke=\"black\"/>\n",
       "<text font-family=\"Times,serif\" font-size=\"14.00\" text-anchor=\"middle\" x=\"453\" y=\"-89.8\">B</text>\n",
       "</g>\n",
       "<!-- 9 -->\n",
       "<g class=\"node\" id=\"node9\"><title>9</title>\n",
       "<polygon fill=\"none\" points=\"542,-62.5 476,-62.5 476,-11.5 542,-11.5 542,-62.5\" stroke=\"black\"/>\n",
       "<polygon fill=\"none\" points=\"485,-36 485,-57 499,-57 499,-36 485,-36\" stroke=\"black\"/>\n",
       "<text font-family=\"Times,serif\" font-size=\"14.00\" font-weight=\"bold\" text-anchor=\"start\" x=\"488\" y=\"-43.3\">,</text>\n",
       "<polygon fill=\"none\" points=\"499,-36 499,-57 533,-57 533,-36 499,-36\" stroke=\"black\"/>\n",
       "<text font-family=\"Times,serif\" font-size=\"14.00\" font-weight=\"bold\" text-anchor=\"start\" x=\"501.61\" y=\"-43.3\">Sigla</text>\n",
       "<polygon fill=\"none\" points=\"485,-16 485,-36 499,-36 499,-16 485,-16\" stroke=\"black\"/>\n",
       "<text font-family=\"Bukyvede\" font-size=\"14.00\" text-anchor=\"start\" x=\"488\" y=\"-21.8\">, </text>\n",
       "<polygon fill=\"none\" points=\"499,-16 499,-36 533,-36 533,-16 499,-16\" stroke=\"black\"/>\n",
       "<text font-family=\"Times,serif\" font-size=\"14.00\" text-anchor=\"start\" x=\"502\" y=\"-21.8\">A</text>\n",
       "<polygon fill=\"none\" points=\"484,-15.5 484,-58.5 534,-58.5 534,-15.5 484,-15.5\" stroke=\"black\"/>\n",
       "</g>\n",
       "<!-- 5&#45;&gt;9 -->\n",
       "<g class=\"edge\" id=\"edge5\"><title>5-&gt;9</title>\n",
       "<path d=\"M430.07,-54.7734C441.372,-52.1959 453.948,-49.3277 465.642,-46.6607\" fill=\"none\" stroke=\"black\"/>\n",
       "<polygon fill=\"black\" points=\"466.666,-50.0171 475.637,-44.381 465.109,-43.1923 466.666,-50.0171\" stroke=\"black\"/>\n",
       "<text font-family=\"Times,serif\" font-size=\"14.00\" text-anchor=\"middle\" x=\"453\" y=\"-52.8\">A</text>\n",
       "</g>\n",
       "<!-- 6 -->\n",
       "<g class=\"node\" id=\"node6\"><title>6</title>\n",
       "<polygon fill=\"none\" points=\"54,-69 0,-69 0,-33 54,-33 54,-69\" stroke=\"black\"/>\n",
       "<text font-family=\"Times,serif\" font-size=\"14.00\" text-anchor=\"middle\" x=\"27\" y=\"-46.8\">6</text>\n",
       "</g>\n",
       "<!-- 8 -->\n",
       "<g class=\"node\" id=\"node8\"><title>8</title>\n",
       "<polygon fill=\"none\" points=\"197.5,-76.5 116.5,-76.5 116.5,-25.5 197.5,-25.5 197.5,-76.5\" stroke=\"black\"/>\n",
       "<polygon fill=\"none\" points=\"126,-50 126,-71 155,-71 155,-50 126,-50\" stroke=\"black\"/>\n",
       "<text font-family=\"Times,serif\" font-size=\"14.00\" font-weight=\"bold\" text-anchor=\"start\" x=\"129\" y=\"-57.3\">Yes</text>\n",
       "<polygon fill=\"none\" points=\"155,-50 155,-71 189,-71 189,-50 155,-50\" stroke=\"black\"/>\n",
       "<text font-family=\"Times,serif\" font-size=\"14.00\" font-weight=\"bold\" text-anchor=\"start\" x=\"157.61\" y=\"-57.3\">Sigla</text>\n",
       "<polygon fill=\"none\" points=\"126,-30 126,-50 155,-50 155,-30 126,-30\" stroke=\"black\"/>\n",
       "<text font-family=\"Bukyvede\" font-size=\"14.00\" text-anchor=\"start\" x=\"129\" y=\"-35.8\">Yes</text>\n",
       "<polygon fill=\"none\" points=\"155,-30 155,-50 189,-50 189,-30 155,-30\" stroke=\"black\"/>\n",
       "<text font-family=\"Times,serif\" font-size=\"14.00\" text-anchor=\"start\" x=\"158\" y=\"-35.8\">A, B</text>\n",
       "<polygon fill=\"none\" points=\"124.5,-29.5 124.5,-72.5 189.5,-72.5 189.5,-29.5 124.5,-29.5\" stroke=\"black\"/>\n",
       "</g>\n",
       "<!-- 6&#45;&gt;8 -->\n",
       "<g class=\"edge\" id=\"edge6\"><title>6-&gt;8</title>\n",
       "<path d=\"M54.2116,-51C69.13,-51 88.3164,-51 106.003,-51\" fill=\"none\" stroke=\"black\"/>\n",
       "<polygon fill=\"black\" points=\"106.199,-54.5001 116.199,-51 106.199,-47.5001 106.199,-54.5001\" stroke=\"black\"/>\n",
       "<text font-family=\"Times,serif\" font-size=\"14.00\" text-anchor=\"middle\" x=\"85\" y=\"-53.8\">A, B</text>\n",
       "</g>\n",
       "<!-- 10 -->\n",
       "<g class=\"node\" id=\"node10\"><title>10</title>\n",
       "<polygon fill=\"none\" points=\"663.5,-100.5 588.5,-100.5 588.5,-49.5 663.5,-49.5 663.5,-100.5\" stroke=\"black\"/>\n",
       "<polygon fill=\"none\" points=\"598,-74 598,-95 621,-95 621,-74 598,-74\" stroke=\"black\"/>\n",
       "<text font-family=\"Times,serif\" font-size=\"14.00\" font-weight=\"bold\" text-anchor=\"start\" x=\"601\" y=\"-81.3\">or</text>\n",
       "<polygon fill=\"none\" points=\"621,-74 621,-95 655,-95 655,-74 621,-74\" stroke=\"black\"/>\n",
       "<text font-family=\"Times,serif\" font-size=\"14.00\" font-weight=\"bold\" text-anchor=\"start\" x=\"623.61\" y=\"-81.3\">Sigla</text>\n",
       "<polygon fill=\"none\" points=\"598,-54 598,-74 621,-74 621,-54 598,-54\" stroke=\"black\"/>\n",
       "<text font-family=\"Bukyvede\" font-size=\"14.00\" text-anchor=\"start\" x=\"601\" y=\"-59.8\">or </text>\n",
       "<polygon fill=\"none\" points=\"621,-54 621,-74 655,-74 655,-54 621,-54\" stroke=\"black\"/>\n",
       "<text font-family=\"Times,serif\" font-size=\"14.00\" text-anchor=\"start\" x=\"624\" y=\"-59.8\">A, B</text>\n",
       "<polygon fill=\"none\" points=\"596.5,-53.5 596.5,-96.5 655.5,-96.5 655.5,-53.5 596.5,-53.5\" stroke=\"black\"/>\n",
       "</g>\n",
       "<!-- 7&#45;&gt;10 -->\n",
       "<g class=\"edge\" id=\"edge7\"><title>7-&gt;10</title>\n",
       "<path d=\"M542.034,-97.3648C553.249,-94.3416 566.084,-90.8817 578.253,-87.6015\" fill=\"none\" stroke=\"black\"/>\n",
       "<polygon fill=\"black\" points=\"579.523,-90.884 588.267,-84.9018 577.701,-84.1253 579.523,-90.884\" stroke=\"black\"/>\n",
       "<text font-family=\"Times,serif\" font-size=\"14.00\" text-anchor=\"middle\" x=\"565\" y=\"-94.8\">B</text>\n",
       "</g>\n",
       "<!-- 8&#45;&gt;2 -->\n",
       "<g class=\"edge\" id=\"edge8\"><title>8-&gt;2</title>\n",
       "<path d=\"M197.621,-65.438C209.337,-69.7077 222.201,-74.3954 234.06,-78.7166\" fill=\"none\" stroke=\"black\"/>\n",
       "<polygon fill=\"black\" points=\"233.143,-82.1075 243.736,-82.243 235.539,-75.5306 233.143,-82.1075\" stroke=\"black\"/>\n",
       "<text font-family=\"Times,serif\" font-size=\"14.00\" text-anchor=\"middle\" x=\"221\" y=\"-77.8\">B</text>\n",
       "</g>\n",
       "<!-- 8&#45;&gt;4 -->\n",
       "<g class=\"edge\" id=\"edge9\"><title>8-&gt;4</title>\n",
       "<path d=\"M197.621,-42.27C209.22,-39.7142 221.944,-36.9106 233.703,-34.3196\" fill=\"none\" stroke=\"black\"/>\n",
       "<polygon fill=\"black\" points=\"234.724,-37.6788 243.736,-32.1089 233.218,-30.8427 234.724,-37.6788\" stroke=\"black\"/>\n",
       "<text font-family=\"Times,serif\" font-size=\"14.00\" text-anchor=\"middle\" x=\"221\" y=\"-40.8\">A</text>\n",
       "</g>\n",
       "<!-- 9&#45;&gt;10 -->\n",
       "<g class=\"edge\" id=\"edge10\"><title>9-&gt;10</title>\n",
       "<path d=\"M542.034,-47.5851C553.361,-51.328 566.341,-55.617 578.617,-59.6736\" fill=\"none\" stroke=\"black\"/>\n",
       "<polygon fill=\"black\" points=\"577.674,-63.048 588.267,-62.8623 579.871,-56.4014 577.674,-63.048\" stroke=\"black\"/>\n",
       "<text font-family=\"Times,serif\" font-size=\"14.00\" text-anchor=\"middle\" x=\"565\" y=\"-58.8\">A</text>\n",
       "</g>\n",
       "<!-- 10&#45;&gt;3 -->\n",
       "<g class=\"edge\" id=\"edge11\"><title>10-&gt;3</title>\n",
       "<path d=\"M663.831,-75C679.608,-75 698.443,-75 716.133,-75\" fill=\"none\" stroke=\"black\"/>\n",
       "<polygon fill=\"black\" points=\"716.384,-78.5001 726.384,-75 716.384,-71.5001 716.384,-78.5001\" stroke=\"black\"/>\n",
       "<text font-family=\"Times,serif\" font-size=\"14.00\" text-anchor=\"middle\" x=\"695\" y=\"-77.8\">A, B</text>\n",
       "</g>\n",
       "</g>\n",
       "</svg>"
      ],
      "text/plain": [
       "<IPython.core.display.SVG object>"
      ]
     },
     "metadata": {},
     "output_type": "display_data"
    }
   ],
   "source": [
    "from collatex import *\n",
    "collation = Collation()\n",
    "collation.add_plain_witness('A', 'Yes, no, or maybe')\n",
    "collation.add_plain_witness('B', 'Yes; no; or maybe')\n",
    "svg = collate(collation, segmentation=False, output=\"svg\")"
   ]
  },
  {
   "cell_type": "markdown",
   "metadata": {},
   "source": [
    "We can work around that by changing our tokenization routine to keep punctuation together with a preceding word, but if we do that, the differences will be reported on the words, even though they have the same letters and only the trailing punctuation differs:"
   ]
  },
  {
   "cell_type": "code",
   "execution_count": null,
   "metadata": {
    "collapsed": false
   },
   "outputs": [],
   "source": [
    "from collatex import *\n",
    "collation = Collation()\n",
    "def processToken(inputText):\n",
    "    return {\"t\": inputText, \"n\": re.sub('\\s+$', '', inputText.lower())}\n",
    "def processWitness(inputText):\n",
    "    siglum, rdg = inputText\n",
    "    return {\"id\": siglum, \"tokens\": \\\n",
    "            [processToken(token) for token in re.findall(r'\\S+\\s*', rdg)]}\n",
    "witnesses = [('A', 'Yes, no, or maybe'), ('B', 'Yes; no; or maybe')]\n",
    "collation = {\"witnesses\": [processWitness(witness) for witness in witnesses]}\n",
    "alignment_table = collate(collation, segmentation=False)\n",
    "print(alignment_table)\n",
    "svg = collate(collation, segmentation=False, output=\"svg\")"
   ]
  },
  {
   "cell_type": "markdown",
   "metadata": {},
   "source": [
    "In the preceding output, the table shows that the punctuation is now combined with the preceding word, so there are only four variation points, instead of six. The SVG output shows the same, and it also shows that the readings that differ only in punctuation are treated as different, although we want them to be treated as the same. We can fix that by stripping punctuation from the \"n\" properties:"
   ]
  },
  {
   "cell_type": "code",
   "execution_count": null,
   "metadata": {
    "collapsed": false
   },
   "outputs": [],
   "source": [
    "from collatex import *\n",
    "collation = Collation()\n",
    "def processToken(inputText):\n",
    "    return {\"t\": inputText, \"n\": re.sub('\\W+$', '', inputText.lower())}\n",
    "def processWitness(inputText):\n",
    "    siglum, rdg = inputText\n",
    "    return {\"id\": siglum, \"tokens\": \\\n",
    "            [processToken(token) for token in re.findall(r'\\S+\\s*', rdg)]}\n",
    "witnesses = [('A', 'Yes, no, or maybe'), ('B', 'Yes; no; or maybe')]\n",
    "collation = {\"witnesses\": [processWitness(witness) for witness in witnesses]}\n",
    "alignment_table = collate(collation, segmentation=False)\n",
    "print(alignment_table)\n",
    "svg = collate(collation, segmentation=False, output=\"svg\")\n",
    "print(collation)"
   ]
  },
  {
   "cell_type": "markdown",
   "metadata": {},
   "source": [
    "The SVG graph now shows no variation, that is, it shows that when the tokens differ only in their trailing punctuation, they are regarded as the same.\n",
    "\n",
    "### segmentation=True\n",
    "\n",
    "The situation is more acute when the value of `segmentation` is set to True. In this case the table combines contiguous cells that display variation, as well as those that don’t, so every new cell marks a transition from variation to non-variation or the reverse. With the default tokenization and normalization, the first variation point (“Yes”) has no variation, the second (with punctuation) varies, the third (“no”) does not vary, the fourth (punctuation) does, and the fifth (“or maybe”), doesn’t:"
   ]
  },
  {
   "cell_type": "code",
   "execution_count": null,
   "metadata": {
    "collapsed": false
   },
   "outputs": [],
   "source": [
    "from collatex import *\n",
    "collation = Collation()\n",
    "collation.add_plain_witness('A', 'Yes, no, or maybe')\n",
    "collation.add_plain_witness('B', 'Yes; no; or maybe')\n",
    "alignment_table = collate(collation, segmentation=True)\n",
    "print(alignment_table)\n",
    "svg = collate(collation, segmentation=True, output=\"svg\")"
   ]
  },
  {
   "cell_type": "markdown",
   "metadata": {},
   "source": [
    "If, though, we combine punctuation with the preceding word token but remove it from the \"n\" values, we can see that these readings have no variation that we care about:"
   ]
  },
  {
   "cell_type": "code",
   "execution_count": null,
   "metadata": {
    "collapsed": false
   },
   "outputs": [],
   "source": [
    "from collatex import *\n",
    "collation = Collation()\n",
    "def processToken(inputText):\n",
    "    return {\"t\": inputText, \"n\": re.sub('\\W+$', '', inputText.lower())}\n",
    "def processWitness(inputText):\n",
    "    siglum, rdg = inputText\n",
    "    return {\"id\": siglum, \"tokens\": \\\n",
    "            [processToken(token) for token in re.findall(r'\\S+\\s*', rdg)]}\n",
    "witnesses = [('A', 'Yes, no, or maybe'), ('B', 'Yes; no; or maybe')]\n",
    "collation = {\"witnesses\": [processWitness(witness) for witness in witnesses]}\n",
    "alignment_table = collate(collation, segmentation=True)\n",
    "print(alignment_table)\n",
    "svg = collate(collation, segmentation=True, output=\"svg\")"
   ]
  }
 ],
 "metadata": {
  "anaconda-cloud": {},
  "kernelspec": {
   "display_name": "Python [Root]",
   "language": "python",
   "name": "Python [Root]"
  },
  "language_info": {
   "codemirror_mode": {
    "name": "ipython",
    "version": 3
   },
   "file_extension": ".py",
   "mimetype": "text/x-python",
   "name": "python",
   "nbconvert_exporter": "python",
   "pygments_lexer": "ipython3",
   "version": "3.5.2"
  }
 },
 "nbformat": 4,
 "nbformat_minor": 1
}
