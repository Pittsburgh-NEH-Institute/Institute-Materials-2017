{
 "cells": [
  {
   "cell_type": "markdown",
   "metadata": {},
   "source": [
    "# Collation outputs\n",
    "\n",
    "\n",
    "- Introduction\n",
    "- In practice\n",
    "    - Table: HTML\n",
    "    - Table: JSON\n",
    "    - Table: XML and XML/TEI\n",
    "    - Graph: SVG\n",
    "- Exercise\n",
    "---\n",
    "\n",
    "\n",
    "## Introduction\n",
    "\n",
    "In this tutorial we will be trying different outputs for our collation, meaning different graphical representations, formats and visualizations of the result.\n",
    "\n",
    "The visualization of the collation result is an open discussion: several possibilities have been suggested and used and new ones are always being proposed. When the output of the collation is a printed format, such as a book, it is rare to see anything other than the traditional critical apparatus. Now that output formats are more frequently digital (or at least have a digital component), collation tools tend to offer more than one visualization option. This is the case for both Juxta and CollateX. The different visualizations are not incompatible; on the contrary, they can be complementary, highlighting different aspects of the result and suitable for different users or different stages of the workflow.\n",
    "\n",
    "In the previous tutorials we used the alignment table and the graph. The alignment table, in use since the 1960s, visualizes the information as a matrix, or table. In comparison, the graph is is able to represent the fluidity of the text and its variation. The idea of a graph-oriented model for expressing textual variance was originally developed by Desmond Schmidt [(2008)](http://multiversiondocs.blogspot.it/2008/03/whats-multi-version-document.html). You can refer to [this video](https://vimeo.com/114242362), for a presentation on *Apparatus vs. Graph – an Interface as Scholarly Argument* by Tara Andrews and Joris van Zundert.\n",
    "\n",
    "Other outputs, such as the *histogram* and the *side-by-side* visualizations offered by Juxta, allow users to visualize the result of the comparison between two witnesses only. This reflects the way the algorithm is built, which is to say that the graphical representation is connected to the approach to collation that informs the software.\n",
    "\n",
    "CollateX has two main ways to conceive of the collation result: as a **table** (with many different formatting options) and as a **graph**:\n",
    "- table formats\n",
    "    - plain text table (no need to specify the output)\n",
    "    - HTML table (output='**html**')\n",
    "    - HTML vertical table with colors (output='**html2**')\n",
    "    - JSON (output='**json**')\n",
    "    - XML (output='**xml**')\n",
    "    - XML/TEI (output='**tei**')\n",
    "- graph format\n",
    "    - SVG (output='**svg**')"
   ]
  },
  {
   "cell_type": "markdown",
   "metadata": {},
   "source": [
    "## In practice\n",
    "\n",
    "Even though we have already encountered some of these outputs, it is worth going through them one more time to focus on the part of the code that controls the different formats. \n",
    "\n",
    "### Table: plain text\n",
    "\n",
    "In this tutorial we will use some simple texts already used in the previous tutorial: the *fox and dog* example.\n",
    "\n",
    "Let's start with the most simple output, for which we don't need to specify any output format (note that you can name the variable containing the output anything you like, but in this tutorial we call it *alignment_table*, *table* or *graph*)\n",
    "\n",
    "In the code cell below, the lines starting with a hash (#) are comments and are not executed. They are there in this instance to help you remember what the different parts of the code do. You do not need to use them in your notebook (although sometimes it is helpful to add comments to your code so you remember what things do)."
   ]
  },
  {
   "cell_type": "code",
   "execution_count": 8,
   "metadata": {
    "collapsed": false
   },
   "outputs": [
    {
     "name": "stdout",
     "output_type": "stream",
     "text": [
      "+---+-----+-------+-------+---------------------+------+------+\n",
      "| A | The | quick | brown | fox jumped over the | lazy | dog. |\n",
      "| B | The | -     | brown | fox jumped over the | -    | dog. |\n",
      "| C | The | bad   | -     | fox jumped over the | lazy | dog. |\n",
      "+---+-----+-------+-------+---------------------+------+------+\n"
     ]
    }
   ],
   "source": [
    "# import the collatex library\n",
    "from collatex import *\n",
    "# create an instance a Collation object\n",
    "collation = Collation()\n",
    "# add witnesses to the collateX instance\n",
    "collation.add_plain_witness( \"A\", \"The quick brown fox jumped over the lazy dog.\")\n",
    "collation.add_plain_witness( \"B\", \"The brown fox jumped over the dog.\" )\n",
    "collation.add_plain_witness( \"C\", \"The bad fox jumped over the lazy dog.\" )\n",
    "# collate the witnesses and store the result in a variable called 'table'\n",
    "# as we have not specified an output, it will default to a plain text table\n",
    "table = collate(collation)\n",
    "# print the collation result\n",
    "print(table)"
   ]
  },
  {
   "cell_type": "markdown",
   "metadata": {},
   "source": [
    "### Table: HTML\n",
    "\n",
    "Now let's try a different output. This time we still want a table format, but instead of rendering it as plain text we would like it exported in HTML and we would like it to be displayed vertically, using color to highlight the moments of comparison. To achieve this all you need to do is add the parameter **output** to the `collate` command and give it that value '**html2**'."
   ]
  },
  {
   "cell_type": "code",
   "execution_count": 13,
   "metadata": {
    "collapsed": false
   },
   "outputs": [
    {
     "data": {
      "text/html": [
       "<TABLE border=\"1\" style=\"border: 1px solid #000000; border-collapse: collapse;\" cellpadding=\"4\">\n",
       " <TR>\n",
       "  <TH>A</TH>\n",
       "  <TH>B</TH>\n",
       "  <TH>C</TH>\n",
       " </TR>\n",
       " <TR>\n",
       "  <TD bgcolor=\"00FFFF\">The</TD>\n",
       "  <TD bgcolor=\"00FFFF\">The</TD>\n",
       "  <TD bgcolor=\"00FFFF\">The</TD>\n",
       " </TR>\n",
       " <TR>\n",
       "  <TD bgcolor=\"FF0000\">quick</TD>\n",
       "  <TD bgcolor=\"FF0000\">-</TD>\n",
       "  <TD bgcolor=\"FF0000\">bad</TD>\n",
       " </TR>\n",
       " <TR>\n",
       "  <TD bgcolor=\"FF0000\">brown</TD>\n",
       "  <TD bgcolor=\"FF0000\">brown</TD>\n",
       "  <TD bgcolor=\"FF0000\">-</TD>\n",
       " </TR>\n",
       " <TR>\n",
       "  <TD bgcolor=\"00FFFF\">fox jumped over the</TD>\n",
       "  <TD bgcolor=\"00FFFF\">fox jumped over the</TD>\n",
       "  <TD bgcolor=\"00FFFF\">fox jumped over the</TD>\n",
       " </TR>\n",
       " <TR>\n",
       "  <TD bgcolor=\"FF0000\">lazy</TD>\n",
       "  <TD bgcolor=\"FF0000\">-</TD>\n",
       "  <TD bgcolor=\"FF0000\">lazy</TD>\n",
       " </TR>\n",
       " <TR>\n",
       "  <TD bgcolor=\"00FFFF\">dog.</TD>\n",
       "  <TD bgcolor=\"00FFFF\">dog.</TD>\n",
       "  <TD bgcolor=\"00FFFF\">dog.</TD>\n",
       " </TR>\n",
       "</TABLE>"
      ],
      "text/plain": [
       "<IPython.core.display.HTML object>"
      ]
     },
     "metadata": {},
     "output_type": "display_data"
    }
   ],
   "source": [
    "table = collate(collation, output='html2')"
   ]
  },
  {
   "cell_type": "markdown",
   "metadata": {},
   "source": [
    "Before moving to the other outputs, try to produce the simple HTML output by changing the code above. The value required in the *output* keyword should be *html*. The colored HTML output is always oriented vertically. The regular HTML option defaults to horizontal output, which you can override by specifying a `layout` parameter with a value of 'vertical'. Try that, too.\n",
    "\n",
    "### Table: JSON\n",
    "\n",
    "The same alignment table can be exported in a variety of formats, as we have seen, including JSON (Javascript Object Notation), a format widely used for storing and interchanging data. In order to produce JSON as output, we need to specify *json* as the output format."
   ]
  },
  {
   "cell_type": "code",
   "execution_count": 14,
   "metadata": {
    "collapsed": false,
    "scrolled": true
   },
   "outputs": [
    {
     "name": "stdout",
     "output_type": "stream",
     "text": [
      "{\"table\": [[[{\"n\": \"The\", \"t\": \"The \"}], [{\"n\": \"quick\", \"t\": \"quick \"}], [{\"n\": \"brown\", \"t\": \"brown \"}], [{\"n\": \"fox\", \"t\": \"fox \"}, {\"n\": \"jumped\", \"t\": \"jumped \"}, {\"n\": \"over\", \"t\": \"over \"}, {\"n\": \"the\", \"t\": \"the \"}], [{\"n\": \"lazy\", \"t\": \"lazy \"}], [{\"n\": \"dog\", \"t\": \"dog\"}, {\"n\": \".\", \"t\": \".\"}]], [[{\"n\": \"The\", \"t\": \"The \"}], null, [{\"n\": \"brown\", \"t\": \"brown \"}], [{\"n\": \"fox\", \"t\": \"fox \"}, {\"n\": \"jumped\", \"t\": \"jumped \"}, {\"n\": \"over\", \"t\": \"over \"}, {\"n\": \"the\", \"t\": \"the \"}], null, [{\"n\": \"dog\", \"t\": \"dog\"}, {\"n\": \".\", \"t\": \".\"}]], [[{\"n\": \"The\", \"t\": \"The \"}], [{\"n\": \"bad\", \"t\": \"bad \"}], null, [{\"n\": \"fox\", \"t\": \"fox \"}, {\"n\": \"jumped\", \"t\": \"jumped \"}, {\"n\": \"over\", \"t\": \"over \"}, {\"n\": \"the\", \"t\": \"the \"}], [{\"n\": \"lazy\", \"t\": \"lazy \"}], [{\"n\": \"dog\", \"t\": \"dog\"}, {\"n\": \".\", \"t\": \".\"}]]], \"witnesses\": [\"A\", \"B\", \"C\"]}\n"
     ]
    }
   ],
   "source": [
    "table = collate(collation, output='json')\n",
    "print(table)"
   ]
  },
  {
   "cell_type": "markdown",
   "metadata": {},
   "source": [
    "### Table: XML and XML/TEI\n",
    "\n",
    "We can use the same procedure in order to export the table in XML or XML/TEI (the latter produces a condensed version of the table only listing witnesses at points of divergence - also called a negative apparatus). To do this you just specify a different output format. Let's start with the XML output (that you can later post-process using XSLT or other tools)."
   ]
  },
  {
   "cell_type": "code",
   "execution_count": 15,
   "metadata": {
    "collapsed": false
   },
   "outputs": [
    {
     "name": "stdout",
     "output_type": "stream",
     "text": [
      "<root><app><rdg wit=\"#A\">The </rdg><rdg wit=\"#B\">The </rdg><rdg wit=\"#C\">The </rdg></app><app><rdg wit=\"#A\">quick </rdg><rdg wit=\"#C\">bad </rdg></app><app><rdg wit=\"#A\">brown </rdg><rdg wit=\"#B\">brown </rdg></app><app><rdg wit=\"#A\">fox jumped over the </rdg><rdg wit=\"#B\">fox jumped over the </rdg><rdg wit=\"#C\">fox jumped over the </rdg></app><app><rdg wit=\"#A\">lazy </rdg><rdg wit=\"#C\">lazy </rdg></app><app><rdg wit=\"#A\">dog.</rdg><rdg wit=\"#B\">dog.</rdg><rdg wit=\"#C\">dog.</rdg></app></root>\n"
     ]
    }
   ],
   "source": [
    "table = collate(collation, output='xml')\n",
    "print(table)"
   ]
  },
  {
   "cell_type": "markdown",
   "metadata": {},
   "source": [
    "And, finally, you can test the XML/TEI output that produces XML following the TEI parallel segmentation encoding guidelines."
   ]
  },
  {
   "cell_type": "code",
   "execution_count": 16,
   "metadata": {
    "collapsed": false
   },
   "outputs": [
    {
     "name": "stdout",
     "output_type": "stream",
     "text": [
      "<p>The <app><rdg wit=\"#A\">quick </rdg><rdg wit=\"#C\">bad </rdg></app><app><rdg wit=\"#A #B\">brown </rdg></app>fox jumped over the <app><rdg wit=\"#A #C\">lazy </rdg></app>dog.</p>\n"
     ]
    }
   ],
   "source": [
    "table = collate(collation, output='tei')\n",
    "print(table)"
   ]
  },
  {
   "cell_type": "markdown",
   "metadata": {},
   "source": [
    "\n",
    "### Graph: SVG\n",
    "\n",
    "And now for something different: try with the graph, exported in the SVG format:"
   ]
  },
  {
   "cell_type": "code",
   "execution_count": 17,
   "metadata": {
    "collapsed": false
   },
   "outputs": [
    {
     "data": {
      "image/svg+xml": [
       "<svg height=\"165pt\" viewBox=\"0.00 0.00 1298.00 165.00\" width=\"1298pt\" xmlns=\"http://www.w3.org/2000/svg\" xmlns:xlink=\"http://www.w3.org/1999/xlink\">\n",
       "<g class=\"graph\" id=\"graph0\" transform=\"scale(1 1) rotate(0) translate(4 161)\">\n",
       "<title>%3</title>\n",
       "<polygon fill=\"#ffffff\" points=\"-4,4 -4,-161 1294,-161 1294,4 -4,4\" stroke=\"transparent\"/>\n",
       "<!-- 1 -->\n",
       "<g class=\"node\" id=\"node1\">\n",
       "<title>1</title>\n",
       "<polygon fill=\"none\" points=\"54,-90 0,-90 0,-54 54,-54 54,-90\" stroke=\"#000000\"/>\n",
       "<text fill=\"#000000\" font-family=\"Times,serif\" font-size=\"14.00\" text-anchor=\"middle\" x=\"27\" y=\"-68.3\">1</text>\n",
       "</g>\n",
       "<!-- 3 -->\n",
       "<g class=\"node\" id=\"node3\">\n",
       "<title>3</title>\n",
       "<polygon fill=\"none\" points=\"230,-98 133,-98 133,-46 230,-46 230,-98\" stroke=\"#000000\"/>\n",
       "<polygon fill=\"none\" points=\"142.5,-72 142.5,-93 172.5,-93 172.5,-72 142.5,-72\" stroke=\"#000000\"/>\n",
       "<text fill=\"#000000\" font-family=\"Times,serif\" font-size=\"14.00\" font-weight=\"bold\" text-anchor=\"start\" x=\"145.5\" y=\"-79.8\">The</text>\n",
       "<polygon fill=\"none\" points=\"172.5,-72 172.5,-93 221.5,-93 221.5,-72 172.5,-72\" stroke=\"#000000\"/>\n",
       "<text fill=\"#000000\" font-family=\"Times,serif\" font-size=\"14.00\" font-weight=\"bold\" text-anchor=\"start\" x=\"175.5\" y=\"-79.8\">Sigla</text>\n",
       "<polygon fill=\"none\" points=\"142.5,-51 142.5,-72 172.5,-72 172.5,-51 142.5,-51\" stroke=\"#000000\"/>\n",
       "<text fill=\"#000000\" font-family=\"Bukyvede\" font-size=\"14.00\" text-anchor=\"start\" x=\"145.5\" y=\"-57.8\">The </text>\n",
       "<polygon fill=\"none\" points=\"172.5,-51 172.5,-72 221.5,-72 221.5,-51 172.5,-51\" stroke=\"#000000\"/>\n",
       "<text fill=\"#000000\" font-family=\"Times,serif\" font-size=\"14.00\" text-anchor=\"start\" x=\"175.5\" y=\"-57.8\">A, B, C</text>\n",
       "<polygon fill=\"none\" points=\"141,-50 141,-94 222,-94 222,-50 141,-50\" stroke=\"#000000\"/>\n",
       "</g>\n",
       "<!-- 1&#45;&gt;3 -->\n",
       "<g class=\"edge\" id=\"edge1\">\n",
       "<title>1-&gt;3</title>\n",
       "<path d=\"M54.2659,-72C73.2067,-72 99.1734,-72 122.7112,-72\" fill=\"none\" stroke=\"#000000\"/>\n",
       "<polygon fill=\"#000000\" points=\"122.9705,-75.5001 132.9705,-72 122.9704,-68.5001 122.9705,-75.5001\" stroke=\"#000000\"/>\n",
       "<text fill=\"#000000\" font-family=\"Times,serif\" font-size=\"14.00\" text-anchor=\"middle\" x=\"93.5\" y=\"-75.8\">A, B, C</text>\n",
       "</g>\n",
       "<!-- 2 -->\n",
       "<g class=\"node\" id=\"node2\">\n",
       "<title>2</title>\n",
       "<polygon fill=\"none\" points=\"1290,-60 1236,-60 1236,-24 1290,-24 1290,-60\" stroke=\"#000000\"/>\n",
       "<text fill=\"#000000\" font-family=\"Times,serif\" font-size=\"14.00\" text-anchor=\"middle\" x=\"1263\" y=\"-38.3\">2</text>\n",
       "</g>\n",
       "<!-- 4 -->\n",
       "<g class=\"node\" id=\"node4\">\n",
       "<title>4</title>\n",
       "<polygon fill=\"none\" points=\"371,-157 277,-157 277,-105 371,-105 371,-157\" stroke=\"#000000\"/>\n",
       "<polygon fill=\"none\" points=\"286,-131 286,-152 326,-152 326,-131 286,-131\" stroke=\"#000000\"/>\n",
       "<text fill=\"#000000\" font-family=\"Times,serif\" font-size=\"14.00\" font-weight=\"bold\" text-anchor=\"start\" x=\"289\" y=\"-138.8\">quick</text>\n",
       "<polygon fill=\"none\" points=\"326,-131 326,-152 362,-152 362,-131 326,-131\" stroke=\"#000000\"/>\n",
       "<text fill=\"#000000\" font-family=\"Times,serif\" font-size=\"14.00\" font-weight=\"bold\" text-anchor=\"start\" x=\"329\" y=\"-138.8\">Sigla</text>\n",
       "<polygon fill=\"none\" points=\"286,-110 286,-131 326,-131 326,-110 286,-110\" stroke=\"#000000\"/>\n",
       "<text fill=\"#000000\" font-family=\"Bukyvede\" font-size=\"14.00\" text-anchor=\"start\" x=\"289\" y=\"-116.8\">quick </text>\n",
       "<polygon fill=\"none\" points=\"326,-110 326,-131 362,-131 362,-110 326,-110\" stroke=\"#000000\"/>\n",
       "<text fill=\"#000000\" font-family=\"Times,serif\" font-size=\"14.00\" text-anchor=\"start\" x=\"329\" y=\"-116.8\">A</text>\n",
       "<polygon fill=\"none\" points=\"285,-109 285,-153 363,-153 363,-109 285,-109\" stroke=\"#000000\"/>\n",
       "</g>\n",
       "<!-- 3&#45;&gt;4 -->\n",
       "<g class=\"edge\" id=\"edge2\">\n",
       "<title>3-&gt;4</title>\n",
       "<path d=\"M230.1419,-92.1394C242.0923,-97.0873 254.9894,-102.4272 267.2836,-107.5174\" fill=\"none\" stroke=\"#000000\"/>\n",
       "<polygon fill=\"#000000\" points=\"265.9635,-110.7589 276.5418,-111.3507 268.6414,-104.2914 265.9635,-110.7589\" stroke=\"#000000\"/>\n",
       "<text fill=\"#000000\" font-family=\"Times,serif\" font-size=\"14.00\" text-anchor=\"middle\" x=\"253.5\" y=\"-106.8\">A</text>\n",
       "</g>\n",
       "<!-- 5 -->\n",
       "<g class=\"node\" id=\"node5\">\n",
       "<title>5</title>\n",
       "<polygon fill=\"none\" points=\"589,-111 490,-111 490,-59 589,-59 589,-111\" stroke=\"#000000\"/>\n",
       "<polygon fill=\"none\" points=\"499.5,-85 499.5,-106 544.5,-106 544.5,-85 499.5,-85\" stroke=\"#000000\"/>\n",
       "<text fill=\"#000000\" font-family=\"Times,serif\" font-size=\"14.00\" font-weight=\"bold\" text-anchor=\"start\" x=\"502.5\" y=\"-92.8\">brown</text>\n",
       "<polygon fill=\"none\" points=\"544.5,-85 544.5,-106 580.5,-106 580.5,-85 544.5,-85\" stroke=\"#000000\"/>\n",
       "<text fill=\"#000000\" font-family=\"Times,serif\" font-size=\"14.00\" font-weight=\"bold\" text-anchor=\"start\" x=\"547.5\" y=\"-92.8\">Sigla</text>\n",
       "<polygon fill=\"none\" points=\"499.5,-64 499.5,-85 544.5,-85 544.5,-64 499.5,-64\" stroke=\"#000000\"/>\n",
       "<text fill=\"#000000\" font-family=\"Bukyvede\" font-size=\"14.00\" text-anchor=\"start\" x=\"502.5\" y=\"-70.8\">brown </text>\n",
       "<polygon fill=\"none\" points=\"544.5,-64 544.5,-85 580.5,-85 580.5,-64 544.5,-64\" stroke=\"#000000\"/>\n",
       "<text fill=\"#000000\" font-family=\"Times,serif\" font-size=\"14.00\" text-anchor=\"start\" x=\"547.5\" y=\"-70.8\">A, B</text>\n",
       "<polygon fill=\"none\" points=\"498,-63 498,-107 581,-107 581,-63 498,-63\" stroke=\"#000000\"/>\n",
       "</g>\n",
       "<!-- 3&#45;&gt;5 -->\n",
       "<g class=\"edge\" id=\"edge3\">\n",
       "<title>3-&gt;5</title>\n",
       "<path d=\"M230.154,-73.7668C295.0236,-76.1224 409.7764,-80.2894 479.8047,-82.8323\" fill=\"none\" stroke=\"#000000\"/>\n",
       "<polygon fill=\"#000000\" points=\"479.6806,-86.33 489.801,-83.1953 479.9346,-79.3346 479.6806,-86.33\" stroke=\"#000000\"/>\n",
       "<text fill=\"#000000\" font-family=\"Times,serif\" font-size=\"14.00\" text-anchor=\"middle\" x=\"324\" y=\"-81.8\">B</text>\n",
       "</g>\n",
       "<!-- 9 -->\n",
       "<g class=\"node\" id=\"node9\">\n",
       "<title>9</title>\n",
       "<polygon fill=\"none\" points=\"472,-52 389,-52 389,0 472,0 472,-52\" stroke=\"#000000\"/>\n",
       "<polygon fill=\"none\" points=\"398.5,-26 398.5,-47 427.5,-47 427.5,-26 398.5,-26\" stroke=\"#000000\"/>\n",
       "<text fill=\"#000000\" font-family=\"Times,serif\" font-size=\"14.00\" font-weight=\"bold\" text-anchor=\"start\" x=\"401.5\" y=\"-33.8\">bad</text>\n",
       "<polygon fill=\"none\" points=\"427.5,-26 427.5,-47 463.5,-47 463.5,-26 427.5,-26\" stroke=\"#000000\"/>\n",
       "<text fill=\"#000000\" font-family=\"Times,serif\" font-size=\"14.00\" font-weight=\"bold\" text-anchor=\"start\" x=\"430.5\" y=\"-33.8\">Sigla</text>\n",
       "<polygon fill=\"none\" points=\"398.5,-5 398.5,-26 427.5,-26 427.5,-5 398.5,-5\" stroke=\"#000000\"/>\n",
       "<text fill=\"#000000\" font-family=\"Bukyvede\" font-size=\"14.00\" text-anchor=\"start\" x=\"401.5\" y=\"-11.8\">bad </text>\n",
       "<polygon fill=\"none\" points=\"427.5,-5 427.5,-26 463.5,-26 463.5,-5 427.5,-5\" stroke=\"#000000\"/>\n",
       "<text fill=\"#000000\" font-family=\"Times,serif\" font-size=\"14.00\" text-anchor=\"start\" x=\"430.5\" y=\"-11.8\">C</text>\n",
       "<polygon fill=\"none\" points=\"397,-4 397,-48 464,-48 464,-4 397,-4\" stroke=\"#000000\"/>\n",
       "</g>\n",
       "<!-- 3&#45;&gt;9 -->\n",
       "<g class=\"edge\" id=\"edge4\">\n",
       "<title>3-&gt;9</title>\n",
       "<path d=\"M230.2681,-48.6623C236.1483,-46.4696 242.1453,-44.5078 248,-43 291.2371,-31.8651 341.9009,-27.8292 378.8626,-26.4554\" fill=\"none\" stroke=\"#000000\"/>\n",
       "<polygon fill=\"#000000\" points=\"379.0235,-29.9522 388.9067,-26.1349 378.8001,-22.9557 379.0235,-29.9522\" stroke=\"#000000\"/>\n",
       "<text fill=\"#000000\" font-family=\"Times,serif\" font-size=\"14.00\" text-anchor=\"middle\" x=\"253.5\" y=\"-46.8\">C</text>\n",
       "</g>\n",
       "<!-- 4&#45;&gt;5 -->\n",
       "<g class=\"edge\" id=\"edge5\">\n",
       "<title>4-&gt;5</title>\n",
       "<path d=\"M371.0261,-120.9619C403.0381,-114.1288 445.6673,-105.0292 480.0345,-97.6933\" fill=\"none\" stroke=\"#000000\"/>\n",
       "<polygon fill=\"#000000\" points=\"480.9032,-101.0868 489.9522,-95.5763 479.4418,-94.2411 480.9032,-101.0868\" stroke=\"#000000\"/>\n",
       "<text fill=\"#000000\" font-family=\"Times,serif\" font-size=\"14.00\" text-anchor=\"middle\" x=\"430.5\" y=\"-119.8\">A</text>\n",
       "</g>\n",
       "<!-- 6 -->\n",
       "<g class=\"node\" id=\"node6\">\n",
       "<title>6</title>\n",
       "<polygon fill=\"none\" points=\"846,-68 652,-68 652,-16 846,-16 846,-68\" stroke=\"#000000\"/>\n",
       "<polygon fill=\"none\" points=\"661,-42 661,-63 788,-63 788,-42 661,-42\" stroke=\"#000000\"/>\n",
       "<text fill=\"#000000\" font-family=\"Times,serif\" font-size=\"14.00\" font-weight=\"bold\" text-anchor=\"start\" x=\"664\" y=\"-49.8\">fox jumped over the</text>\n",
       "<polygon fill=\"none\" points=\"788,-42 788,-63 837,-63 837,-42 788,-42\" stroke=\"#000000\"/>\n",
       "<text fill=\"#000000\" font-family=\"Times,serif\" font-size=\"14.00\" font-weight=\"bold\" text-anchor=\"start\" x=\"791\" y=\"-49.8\">Sigla</text>\n",
       "<polygon fill=\"none\" points=\"661,-21 661,-42 788,-42 788,-21 661,-21\" stroke=\"#000000\"/>\n",
       "<text fill=\"#000000\" font-family=\"Bukyvede\" font-size=\"14.00\" text-anchor=\"start\" x=\"664\" y=\"-27.8\">fox jumped over the </text>\n",
       "<polygon fill=\"none\" points=\"788,-21 788,-42 837,-42 837,-21 788,-21\" stroke=\"#000000\"/>\n",
       "<text fill=\"#000000\" font-family=\"Times,serif\" font-size=\"14.00\" text-anchor=\"start\" x=\"791\" y=\"-27.8\">A, B, C</text>\n",
       "<polygon fill=\"none\" points=\"660,-20 660,-64 838,-64 838,-20 660,-20\" stroke=\"#000000\"/>\n",
       "</g>\n",
       "<!-- 5&#45;&gt;6 -->\n",
       "<g class=\"edge\" id=\"edge6\">\n",
       "<title>5-&gt;6</title>\n",
       "<path d=\"M589.1486,-74.8096C605.0464,-71.5466 623.3113,-67.7977 641.6817,-64.0271\" fill=\"none\" stroke=\"#000000\"/>\n",
       "<polygon fill=\"#000000\" points=\"642.4915,-67.434 651.5835,-61.9948 641.084,-60.5769 642.4915,-67.434\" stroke=\"#000000\"/>\n",
       "<text fill=\"#000000\" font-family=\"Times,serif\" font-size=\"14.00\" text-anchor=\"middle\" x=\"620.5\" y=\"-74.8\">A, B</text>\n",
       "</g>\n",
       "<!-- 7 -->\n",
       "<g class=\"node\" id=\"node7\">\n",
       "<title>7</title>\n",
       "<polygon fill=\"none\" points=\"995,-111 909,-111 909,-59 995,-59 995,-111\" stroke=\"#000000\"/>\n",
       "<polygon fill=\"none\" points=\"918,-85 918,-106 950,-106 950,-85 918,-85\" stroke=\"#000000\"/>\n",
       "<text fill=\"#000000\" font-family=\"Times,serif\" font-size=\"14.00\" font-weight=\"bold\" text-anchor=\"start\" x=\"921\" y=\"-92.8\">lazy</text>\n",
       "<polygon fill=\"none\" points=\"950,-85 950,-106 986,-106 986,-85 950,-85\" stroke=\"#000000\"/>\n",
       "<text fill=\"#000000\" font-family=\"Times,serif\" font-size=\"14.00\" font-weight=\"bold\" text-anchor=\"start\" x=\"953\" y=\"-92.8\">Sigla</text>\n",
       "<polygon fill=\"none\" points=\"918,-64 918,-85 950,-85 950,-64 918,-64\" stroke=\"#000000\"/>\n",
       "<text fill=\"#000000\" font-family=\"Bukyvede\" font-size=\"14.00\" text-anchor=\"start\" x=\"921\" y=\"-70.8\">lazy </text>\n",
       "<polygon fill=\"none\" points=\"950,-64 950,-85 986,-85 986,-64 950,-64\" stroke=\"#000000\"/>\n",
       "<text fill=\"#000000\" font-family=\"Times,serif\" font-size=\"14.00\" text-anchor=\"start\" x=\"953\" y=\"-70.8\">A, C</text>\n",
       "<polygon fill=\"none\" points=\"917,-63 917,-107 987,-107 987,-63 917,-63\" stroke=\"#000000\"/>\n",
       "</g>\n",
       "<!-- 6&#45;&gt;7 -->\n",
       "<g class=\"edge\" id=\"edge7\">\n",
       "<title>6-&gt;7</title>\n",
       "<path d=\"M846.0408,-62.5554C864.2749,-66.4178 882.7012,-70.3209 898.9599,-73.7649\" fill=\"none\" stroke=\"#000000\"/>\n",
       "<polygon fill=\"#000000\" points=\"898.2737,-77.1971 908.782,-75.8454 899.7244,-70.3491 898.2737,-77.1971\" stroke=\"#000000\"/>\n",
       "<text fill=\"#000000\" font-family=\"Times,serif\" font-size=\"14.00\" text-anchor=\"middle\" x=\"877.5\" y=\"-74.8\">A, C</text>\n",
       "</g>\n",
       "<!-- 8 -->\n",
       "<g class=\"node\" id=\"node8\">\n",
       "<title>8</title>\n",
       "<polygon fill=\"none\" points=\"1157,-68 1058,-68 1058,-16 1157,-16 1157,-68\" stroke=\"#000000\"/>\n",
       "<polygon fill=\"none\" points=\"1067.5,-42 1067.5,-63 1099.5,-63 1099.5,-42 1067.5,-42\" stroke=\"#000000\"/>\n",
       "<text fill=\"#000000\" font-family=\"Times,serif\" font-size=\"14.00\" font-weight=\"bold\" text-anchor=\"start\" x=\"1070.5\" y=\"-49.8\">dog.</text>\n",
       "<polygon fill=\"none\" points=\"1099.5,-42 1099.5,-63 1148.5,-63 1148.5,-42 1099.5,-42\" stroke=\"#000000\"/>\n",
       "<text fill=\"#000000\" font-family=\"Times,serif\" font-size=\"14.00\" font-weight=\"bold\" text-anchor=\"start\" x=\"1102.5\" y=\"-49.8\">Sigla</text>\n",
       "<polygon fill=\"none\" points=\"1067.5,-21 1067.5,-42 1099.5,-42 1099.5,-21 1067.5,-21\" stroke=\"#000000\"/>\n",
       "<text fill=\"#000000\" font-family=\"Bukyvede\" font-size=\"14.00\" text-anchor=\"start\" x=\"1070.5\" y=\"-27.8\">dog.</text>\n",
       "<polygon fill=\"none\" points=\"1099.5,-21 1099.5,-42 1148.5,-42 1148.5,-21 1099.5,-21\" stroke=\"#000000\"/>\n",
       "<text fill=\"#000000\" font-family=\"Times,serif\" font-size=\"14.00\" text-anchor=\"start\" x=\"1102.5\" y=\"-27.8\">A, B, C</text>\n",
       "<polygon fill=\"none\" points=\"1066,-20 1066,-64 1149,-64 1149,-20 1066,-20\" stroke=\"#000000\"/>\n",
       "</g>\n",
       "<!-- 6&#45;&gt;8 -->\n",
       "<g class=\"edge\" id=\"edge8\">\n",
       "<title>6-&gt;8</title>\n",
       "<path d=\"M846.2746,-36.5674C891.4968,-34.7257 945.996,-33.4769 995,-35 1012.0887,-35.5311 1030.6163,-36.515 1047.6104,-37.5808\" fill=\"none\" stroke=\"#000000\"/>\n",
       "<polygon fill=\"#000000\" points=\"1047.7615,-41.0978 1057.9669,-38.2517 1048.2141,-34.1125 1047.7615,-41.0978\" stroke=\"#000000\"/>\n",
       "<text fill=\"#000000\" font-family=\"Times,serif\" font-size=\"14.00\" text-anchor=\"middle\" x=\"952\" y=\"-38.8\">B</text>\n",
       "</g>\n",
       "<!-- 7&#45;&gt;8 -->\n",
       "<g class=\"edge\" id=\"edge9\">\n",
       "<title>7-&gt;8</title>\n",
       "<path d=\"M995.3154,-73.0221C1011.5418,-68.5351 1030.2757,-63.3546 1047.7305,-58.5279\" fill=\"none\" stroke=\"#000000\"/>\n",
       "<polygon fill=\"#000000\" points=\"1049.1257,-61.7735 1057.8312,-55.7348 1047.26,-55.0267 1049.1257,-61.7735\" stroke=\"#000000\"/>\n",
       "<text fill=\"#000000\" font-family=\"Times,serif\" font-size=\"14.00\" text-anchor=\"middle\" x=\"1026.5\" y=\"-70.8\">A, C</text>\n",
       "</g>\n",
       "<!-- 8&#45;&gt;2 -->\n",
       "<g class=\"edge\" id=\"edge10\">\n",
       "<title>8-&gt;2</title>\n",
       "<path d=\"M1157.1287,-42C1179.3814,-42 1205.186,-42 1225.7482,-42\" fill=\"none\" stroke=\"#000000\"/>\n",
       "<polygon fill=\"#000000\" points=\"1225.9765,-45.5001 1235.9764,-42 1225.9764,-38.5001 1225.9765,-45.5001\" stroke=\"#000000\"/>\n",
       "<text fill=\"#000000\" font-family=\"Times,serif\" font-size=\"14.00\" text-anchor=\"middle\" x=\"1196.5\" y=\"-45.8\">A, B, C</text>\n",
       "</g>\n",
       "<!-- 9&#45;&gt;6 -->\n",
       "<g class=\"edge\" id=\"edge11\">\n",
       "<title>9-&gt;6</title>\n",
       "<path d=\"M472.1383,-28.0917C514.9278,-30.2413 583.313,-33.6766 641.4106,-36.5952\" fill=\"none\" stroke=\"#000000\"/>\n",
       "<polygon fill=\"#000000\" points=\"641.5933,-40.1087 651.7563,-37.1149 641.9445,-33.1175 641.5933,-40.1087\" stroke=\"#000000\"/>\n",
       "<text fill=\"#000000\" font-family=\"Times,serif\" font-size=\"14.00\" text-anchor=\"middle\" x=\"539.5\" y=\"-37.8\">C</text>\n",
       "</g>\n",
       "</g>\n",
       "</svg>"
      ],
      "text/plain": [
       "<IPython.core.display.SVG object>"
      ]
     },
     "metadata": {},
     "output_type": "display_data"
    }
   ],
   "source": [
    "graph = collate(collation, output='svg')"
   ]
  },
  {
   "cell_type": "markdown",
   "metadata": {},
   "source": [
    "## Exercise\n",
    "\n",
    "In this tutorial we have used the *fox and dog* example. Now try to produce a JSON or TEI output of the first paragraph of Darwin's *On the origin of species*, that we have already used in the first tutorial. You can find the data in *fixtures/Darwin/txt* (only the first paragraph: *xxxx\\_par1*).\n",
    "\n",
    "Alternatively, or if you still have time, you can use the data in *fixtures/Woolf/Lighthouse-1* and produce new outputs."
   ]
  },
  {
   "cell_type": "markdown",
   "metadata": {},
   "source": [
    "## What's next\n",
    "\n",
    "In the next tutorial, [Collate outside the notebook](http://nbviewer.jupyter.org/github/DiXiT-eu/collatex-tutorial/blob/master/unit5/4_collate-outside-the-notebook.ipynb), we will leave the notebook and learn how to create and run Python scripts using PyCharm and the terminal, and how to save the collation results in a new file.\n"
   ]
  }
 ],
 "metadata": {
  "anaconda-cloud": {},
  "kernelspec": {
   "display_name": "Python 3",
   "language": "python",
   "name": "python3"
  },
  "language_info": {
   "codemirror_mode": {
    "name": "ipython",
    "version": 3
   },
   "file_extension": ".py",
   "mimetype": "text/x-python",
   "name": "python",
   "nbconvert_exporter": "python",
   "pygments_lexer": "ipython3",
   "version": "3.6.0"
  }
 },
 "nbformat": 4,
 "nbformat_minor": 0
}
