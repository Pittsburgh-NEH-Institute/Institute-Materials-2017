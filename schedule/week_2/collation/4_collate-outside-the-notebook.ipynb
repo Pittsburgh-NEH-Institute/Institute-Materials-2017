{
 "cells": [
  {
   "cell_type": "markdown",
   "metadata": {},
   "source": [
    "# Collation outside the notebook\n",
    "\n",
    "## Outline\n",
    "\n",
    "- Create a Python file\n",
    "- Run a script\n",
    "    - In the notebook\n",
    "    - In the terminal\n",
    "- Input files\n",
    "- Output file\n",
    "- Exercise\n",
    "\n",
    "## Running from the command line\n",
    "\n",
    "As Tara mentioned yesterday, to run a Python file from the command line type:\n",
    "\n",
    "    python myfile.py\n",
    "\n",
    "replacing “myfile.py” with the name of your Python program.\n",
    "\n",
    "## Where to put your Python file\n",
    "\n",
    "You can put your Python file anywhere you want, except that it has to be able to find any files it opens. You might want to create a separate directory for this exercise on your Desktop, in your fork of the Institute repo, or in another workspace.\n",
    "\n",
    "\n",
    "## Create a Python file\n",
    "\n",
    "You can create a Python file in a plain text editor, such as BBEdit or Notepad++. Don’t use a word processor! Let’s start with the following:"
   ]
  },
  {
   "cell_type": "code",
   "execution_count": 22,
   "metadata": {
    "collapsed": false
   },
   "outputs": [
    {
     "name": "stdout",
     "output_type": "stream",
     "text": [
      "+---+-----+-------+-------+---------------------+------+------+\n",
      "| A | The | quick | brown | fox jumped over the | lazy | dog. |\n",
      "| B | The | -     | brown | fox jumped over the | -    | dog. |\n",
      "| C | The | bad   | -     | fox jumped over the | lazy | dog. |\n",
      "+---+-----+-------+-------+---------------------+------+------+\n"
     ]
    }
   ],
   "source": [
    "from collatex import *\n",
    "collation = Collation()\n",
    "collation.add_plain_witness( \"A\", \"The quick brown fox jumped over the lazy dog.\")\n",
    "collation.add_plain_witness( \"B\", \"The brown fox jumped over the dog.\" )\n",
    "collation.add_plain_witness( \"C\", \"The bad fox jumped over the lazy dog.\")\n",
    "table = collate(collation)\n",
    "print(table)"
   ]
  },
  {
   "cell_type": "markdown",
   "metadata": {},
   "source": [
    "Now save the file as 'collate.py', inside your work directory (see above).\n",
    "    \n",
    "## Run the script\n",
    "\n",
    "Open the terminal and navigate to the folder where your script is. Then type\n",
    "\n",
    "    python collate.py\n",
    "        \n",
    "If you are not in the directory where your script is, you need to specify the path to that file. For example if you are in your home directory and your script is in a `python_scripts` subdirectory, the command would look like:\n",
    "    \n",
    "    python python_scripts/collate.py\n",
    "\n",
    "The output goes by default to stdout, which, also by default, is displayed on the screen.\n",
    "\n",
    "## Input files\n",
    "\n",
    "In the example above we’ve supplied the full text of our witnesses, which is impractical in Real Life. We can produce the same sort of collation of input files that we read from the file system, using, in this exercise, the data in the `schedule/week_2/fixtures/Darwin/txt` subdirectory of the Institute repo and producing an output in XML/TEI. The code will look like this:"
   ]
  },
  {
   "cell_type": "code",
   "execution_count": 24,
   "metadata": {
    "collapsed": false
   },
   "outputs": [
    {
     "name": "stdout",
     "output_type": "stream",
     "text": [
      "<p><app><rdg wit=\"#1866 #1869 #1872\">Causes of Variability. </rdg></app>WHEN we <app><rdg wit=\"#1859 #1860 #1861 #1866\">look to </rdg><rdg wit=\"#1869 #1872\">compare </rdg></app>the individuals of the same variety or sub-variety of our older cultivated plants and animals, one of the first points which strikes us <app><rdg wit=\"#1859 #1860 #1861 #1866\">, </rdg></app>is, that they generally differ <app><rdg wit=\"#1859\">much </rdg></app><app><rdg wit=\"#1859 #1860 #1861 #1866 #1872\">more </rdg></app>from each other<app><rdg wit=\"#1859\">, </rdg><rdg wit=\"#1869\">more </rdg></app>than do the individuals of any one species or variety in a state of nature. <app><rdg wit=\"#1859 #1860 #1861 #1866\">When </rdg><rdg wit=\"#1869 #1872\">And if </rdg></app>we reflect on the vast diversity of the plants and animals which have been cultivated, and which have varied during all ages under the most different climates and treatment, <app><rdg wit=\"#1859 #1860 #1861 #1866\">I think </rdg></app>we are driven to conclude that this <app><rdg wit=\"#1859\">greater </rdg><rdg wit=\"#1860 #1861 #1866 #1869 #1872\">great </rdg></app>variability is <app><rdg wit=\"#1859 #1860 #1861 #1866\">simply </rdg></app>due to our domestic productions having been raised under conditions of life not so uniform as, and somewhat different from, those to which the parent-species <app><rdg wit=\"#1859 #1860 #1861 #1866\">have </rdg><rdg wit=\"#1869 #1872\">had </rdg></app>been exposed under nature. There is<app><rdg wit=\"#1859 #1872\">, </rdg></app>also<app><rdg wit=\"#1859 #1860 #1861 #1866 #1869\">, I think</rdg></app>, some probability in the view propounded by Andrew Knight, that this variability may be partly connected with excess of food. It seems <app><rdg wit=\"#1859 #1860 #1861 #1866\">pretty </rdg></app>clear that organic beings must be exposed during several generations to <app><rdg wit=\"#1859 #1860 #1861 #1866\">the </rdg></app>new <app><rdg wit=\"#1859 #1860 #1861 #1866\">conditions of life </rdg><rdg wit=\"#1869 #1872\">conditions </rdg></app>to cause any <app><rdg wit=\"#1859 #1860 #1861 #1866 #1869\">appreciable </rdg><rdg wit=\"#1872\">great </rdg></app>amount of variation; and that <app><rdg wit=\"#1866 #1869 #1872\">, </rdg></app>when the organisation has once begun to vary, it generally <app><rdg wit=\"#1859 #1860 #1861 #1866 #1872\">continues </rdg><rdg wit=\"#1869\">con- tinues </rdg></app><app><rdg wit=\"#1859 #1860 #1861 #1866\">to vary </rdg><rdg wit=\"#1869 #1872\">varying </rdg></app>for many generations. No case is on record of a variable <app><rdg wit=\"#1859 #1860 #1861 #1866\">being </rdg><rdg wit=\"#1869 #1872\">organism </rdg></app>ceasing <app><rdg wit=\"#1859 #1860 #1861 #1866\">to be variable </rdg><rdg wit=\"#1869 #1872\">to vary </rdg></app>under cultivation. Our oldest cultivated plants, such as wheat, still <app><rdg wit=\"#1859 #1860 #1861 #1866\">often </rdg></app>yield new varieties: our oldest domesticated animals are still capable of rapid improvement or modification.\n",
      "</p>\n"
     ]
    }
   ],
   "source": [
    "from collatex import *\n",
    "collation = Collation()\n",
    "with open( \"../fixtures/Darwin/txt/darwin1859_par1.txt\", encoding='utf-8' ) as witness_1859, \\\n",
    "    open( \"../fixtures/Darwin/txt/darwin1860_par1.txt\", encoding='utf-8' ) as witness_1860, \\\n",
    "    open( \"../fixtures/Darwin/txt/darwin1861_par1.txt\", encoding='utf-8' ) as witness_1861, \\\n",
    "    open( \"../fixtures/Darwin/txt/darwin1866_par1.txt\", encoding='utf-8' ) as  witness_1866, \\\n",
    "    open( \"../fixtures/Darwin/txt/darwin1869_par1.txt\", encoding='utf-8' ) as witness_1869, \\\n",
    "    open( \"../fixtures/Darwin/txt/darwin1872_par1.txt\", encoding='utf-8' ) as witness_1872:\n",
    "        collation.add_plain_witness( \"1859\", witness_1859.read())\n",
    "        collation.add_plain_witness( \"1860\", witness_1860.read())\n",
    "        collation.add_plain_witness( \"1861\", witness_1861.read())\n",
    "        collation.add_plain_witness( \"1866\", witness_1866.read())\n",
    "        collation.add_plain_witness( \"1869\", witness_1869.read())\n",
    "        collation.add_plain_witness( \"1872\", witness_1872.read())\n",
    "TEI = collate(collation, output='tei')\n",
    "print(TEI)"
   ]
  },
  {
   "cell_type": "markdown",
   "metadata": {},
   "source": [
    "## Output file\n",
    "\n",
    "In real life we could also specify an outfile file for our results, instead of letting them go to stdout. Here’s how that would look:"
   ]
  },
  {
   "cell_type": "code",
   "execution_count": 27,
   "metadata": {
    "collapsed": true
   },
   "outputs": [],
   "source": [
    "from collatex import *\n",
    "collation = Collation()\n",
    "with open( \"../fixtures/Darwin/txt/darwin1859_par1.txt\", encoding='utf-8' ) as witness_1859, \\\n",
    "    open( \"../fixtures/Darwin/txt/darwin1860_par1.txt\", encoding='utf-8' ) as witness_1860, \\\n",
    "    open( \"../fixtures/Darwin/txt/darwin1861_par1.txt\", encoding='utf-8' ) as witness_1861, \\\n",
    "    open( \"../fixtures/Darwin/txt/darwin1866_par1.txt\", encoding='utf-8' ) as  witness_1866, \\\n",
    "    open( \"../fixtures/Darwin/txt/darwin1869_par1.txt\", encoding='utf-8' ) as witness_1869, \\\n",
    "    open( \"../fixtures/Darwin/txt/darwin1872_par1.txt\", encoding='utf-8' ) as witness_1872:\n",
    "        collation.add_plain_witness( \"1859\", witness_1859.read())\n",
    "        collation.add_plain_witness( \"1860\", witness_1860.read() )\n",
    "        collation.add_plain_witness( \"1861\", witness_1861.read() )\n",
    "        collation.add_plain_witness( \"1866\", witness_1866.read() )\n",
    "        collation.add_plain_witness( \"1869\", witness_1869.read() )\n",
    "        collation.add_plain_witness( \"1872\", witness_1872.read() )\n",
    "with open('output-tei.xml', 'w', encoding='utf-8') as outfile: \n",
    "    TEI = collate(collation, output='tei')\n",
    "    outfile.write(TEI)"
   ]
  },
  {
   "cell_type": "markdown",
   "metadata": {},
   "source": [
    "When we run the script, the result won't appear below anymore. But a new file, 'outfile-tei.xml' has been created the directory in which we’ve run the script. You can examine it with `cat` or `less`. Note that it isn’t a complete TEI document, or even a complete well-formed XML document, so you can’t open it in \\<oXygen/\\> without raising an error. In Real Life you could copy and paste it into a TEI wrapper, or you could modify your Python script to create that wrapper for you around the collated output."
   ]
  },
  {
   "cell_type": "markdown",
   "metadata": {},
   "source": [
    "You can create an output file also running your script in the Jupyter notebook! Depending on the path you specify, it will be created in your 'Notebook' directory or elsewhere."
   ]
  },
  {
   "cell_type": "markdown",
   "metadata": {},
   "source": [
    "## Exercise\n",
    "\n",
    "Create a new Python script that produces an output in JSON, using the data in 'fixtures/Woolf/Lighthouse-1'."
   ]
  }
 ],
 "metadata": {
  "anaconda-cloud": {},
  "kernelspec": {
   "display_name": "Python 3",
   "language": "python",
   "name": "python3"
  },
  "language_info": {
   "codemirror_mode": {
    "name": "ipython",
    "version": 3
   },
   "file_extension": ".py",
   "mimetype": "text/x-python",
   "name": "python",
   "nbconvert_exporter": "python",
   "pygments_lexer": "ipython3",
   "version": "3.6.0"
  }
 },
 "nbformat": 4,
 "nbformat_minor": 0
}
