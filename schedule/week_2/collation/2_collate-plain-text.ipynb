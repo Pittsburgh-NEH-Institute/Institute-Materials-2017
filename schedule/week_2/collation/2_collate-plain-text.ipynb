{
 "cells": [
  {
   "cell_type": "markdown",
   "metadata": {},
   "source": [
    "## Collating for real with Collatex (2)\n",
    "Here we can repeat the same steps done in the previous exercise, with a new and slightly more complicated text case. You can create a new notebook for this exercise and follow the instructions below.\n",
    "\n",
    "We will be using different editions of Virginia Woolf's \"To the lighthouse\":\n",
    "- USA = New York: Harcourt, Brace & Company, 1927 (1st USA edition)\n",
    "- UK = Londond: R & R Clark Limited, 1827 (1st UK edition)\n",
    "- EM (EVERYMAN) = London: J. M. Dent & Sons LTD, 1938 (reprint 1952)\n",
    "\n",
    "The facsimiles and trascriptions of the editions are available at http://woolfonline.com/ "
   ]
  },
  {
   "cell_type": "markdown",
   "metadata": {},
   "source": [
    "### First exercise\n",
    "Try to reproduce what you have done with the Darwin text."
   ]
  },
  {
   "cell_type": "markdown",
   "metadata": {},
   "source": [
    "Import the *collatex* Python library"
   ]
  },
  {
   "cell_type": "code",
   "execution_count": null,
   "metadata": {},
   "outputs": [],
   "source": [
    "from collatex import *"
   ]
  },
  {
   "cell_type": "markdown",
   "metadata": {},
   "source": [
    "Create a collation object"
   ]
  },
  {
   "cell_type": "code",
   "execution_count": null,
   "metadata": {},
   "outputs": [],
   "source": [
    "collation = Collation()"
   ]
  },
  {
   "cell_type": "markdown",
   "metadata": {},
   "source": [
    "Now open the texts in \"../fixtures/Woolf/Lighthouse-1\", read them, and add them to the collation:"
   ]
  },
  {
   "cell_type": "code",
   "execution_count": null,
   "metadata": {},
   "outputs": [],
   "source": [
    "with open( \"../fixtures/Woolf/Lighthouse-1/Lighthouse-1-USA.txt\", encoding='utf-8' ) as witness_USA, \\\n",
    "    open( \"../fixtures/Woolf/Lighthouse-1/Lighthouse-1-UK.txt\", encoding='utf-8' ) as witness_UK, \\\n",
    "    open( \"../fixtures/Woolf/Lighthouse-1/Lighthouse-1-EM.txt\", encoding='utf-8' ) as witness_EM:\n",
    "    collation.add_plain_witness( \"USA\", witness_USA.read() )\n",
    "    collation.add_plain_witness( \"UK\", witness_UK.read() )\n",
    "    collation.add_plain_witness( \"EM\", witness_EM.read() )"
   ]
  },
  {
   "cell_type": "markdown",
   "metadata": {},
   "source": [
    "Align, using the HTML output option"
   ]
  },
  {
   "cell_type": "code",
   "execution_count": null,
   "metadata": {},
   "outputs": [],
   "source": [
    "alignment_table = collate(collation, layout='vertical', output='html')"
   ]
  },
  {
   "cell_type": "markdown",
   "metadata": {},
   "source": [
    "If you want to know more about this text:\n",
    "\n",
    "Look at the sources\n",
    "- USA, p. 14\n",
    "http://woolfonline.com/?node=content/text/transcriptions&project=1&parent=2&taxa=19&content=2817&pos=15\n",
    "- UK, pp. 16-17\n",
    "http://woolfonline.com/?node=content/text/transcriptions&project=1&parent=2&taxa=20&content=3139&pos=19\n",
    "- EVERYMAN, p. 7\n",
    "http://woolfonline.com/?node=content/text/transcriptions&project=1&parent=2&taxa=22&content=3804&pos=24\n",
    "\n",
    "Start thinking about how to handle situation like the following (proof with corrections in the margin)\n",
    "- http://woolfonline.com/?node=content/text/transcriptions&project=1&parent=2&taxa=18&content=4172&pos=14\n"
   ]
  },
  {
   "cell_type": "markdown",
   "metadata": {},
   "source": [
    "### Second exercise\n",
    "In the second exercise, repeat the previous steps, now using the texts at \"../fixtures/Woolf/Lighthouse-2\" and visualizing the output with the more sophisticated HTML option (`html2`)."
   ]
  },
  {
   "cell_type": "code",
   "execution_count": null,
   "metadata": {
    "scrolled": true
   },
   "outputs": [],
   "source": [
    "collation = Collation()\n",
    "witness_USA = open( \"../fixtures/Woolf/Lighthouse-2/Lighthouse-2-USA.txt\", encoding='utf-8' ).read()\n",
    "witness_UK = open( \"../fixtures/Woolf/Lighthouse-2/Lighthouse-2-UK.txt\", encoding='utf-8' ).read()\n",
    "witness_EM = open( \"../fixtures/Woolf/Lighthouse-2/Lighthouse-2-EM.txt\", encoding='utf-8' ).read()\n",
    "collation.add_plain_witness( \"USA\", witness_USA )\n",
    "collation.add_plain_witness( \"UK\", witness_UK )\n",
    "collation.add_plain_witness( \"EM\", witness_EM )\n",
    "alignment_table = collate(collation, output='html2')"
   ]
  },
  {
   "cell_type": "markdown",
   "metadata": {},
   "source": [
    "If you don’t like the colors, you can use the `html` output option:"
   ]
  },
  {
   "cell_type": "code",
   "execution_count": null,
   "metadata": {},
   "outputs": [],
   "source": [
    "alignment_table = collate(collation, output='html', layout='vertical')"
   ]
  }
 ],
 "metadata": {
  "anaconda-cloud": {},
  "kernelspec": {
   "display_name": "Python 3",
   "language": "python",
   "name": "python3"
  },
  "language_info": {
   "codemirror_mode": {
    "name": "ipython",
    "version": 3
   },
   "file_extension": ".py",
   "mimetype": "text/x-python",
   "name": "python",
   "nbconvert_exporter": "python",
   "pygments_lexer": "ipython3",
   "version": "3.6.5"
  }
 },
 "nbformat": 4,
 "nbformat_minor": 1
}
