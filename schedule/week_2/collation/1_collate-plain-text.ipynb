{
 "cells": [
  {
   "cell_type": "markdown",
   "metadata": {},
   "source": [
    "## Collating with CollateX\n",
    "\n"
   ]
  },
  {
   "cell_type": "markdown",
   "metadata": {},
   "source": [
    "First we need to tell Python that we will be needing the Python library that holds the code for CollateX…"
   ]
  },
  {
   "cell_type": "code",
   "execution_count": null,
   "metadata": {},
   "outputs": [],
   "source": [
    "from collatex import *"
   ]
  },
  {
   "cell_type": "markdown",
   "metadata": {},
   "source": [
    "Now we're ready to make a collation object. We do this with the slightly hermetic line of code: \n",
    "\n",
    "    collation = Collation()\n",
    "    \n",
    "Here the lower case `collation` is the arbitrary named variable that refers to a copy (officially it is called an *instance*) of the CollateX collation engine. The instruction tells Python to create a new instance of a `Collation()` object and call it `collation`."
   ]
  },
  {
   "cell_type": "code",
   "execution_count": null,
   "metadata": {},
   "outputs": [],
   "source": [
    "collation = Collation()"
   ]
  },
  {
   "cell_type": "markdown",
   "metadata": {},
   "source": [
    "Now we add some witnesses. Each witness gets a letter or name (siglum) that will identify it, and for each we add the literal text of the witness to the collation object:"
   ]
  },
  {
   "cell_type": "code",
   "execution_count": null,
   "metadata": {},
   "outputs": [],
   "source": [
    "collation.add_plain_witness( \"A\", \"The quick brown fox jumped over the lazy dog.\")\n",
    "collation.add_plain_witness( \"B\", \"The brown fox jumped over the dog.\" )\n",
    "collation.add_plain_witness( \"C\", \"The bad fox jumped over the lazy dog.\" )"
   ]
  },
  {
   "cell_type": "markdown",
   "metadata": {},
   "source": [
    "We now tell CollateX to collate the witnesses, create a table to visualize the results, and orient the table vertically. We’ve created a variable called `alignment_table` to hold the CollateX output. We’ll discuss the `Segmentation` parameter later."
   ]
  },
  {
   "cell_type": "code",
   "execution_count": null,
   "metadata": {},
   "outputs": [],
   "source": [
    "alignment_table = collate(collation, layout='vertical', segmentation=False )"
   ]
  },
  {
   "cell_type": "markdown",
   "metadata": {},
   "source": [
    "When we tell CollateX to create a plain text table to hold the output, it isn’t rendered by default (other CollateX output formats are), so we have to `print()` it in order to see it:"
   ]
  },
  {
   "cell_type": "code",
   "execution_count": null,
   "metadata": {},
   "outputs": [],
   "source": [
    "print( alignment_table )"
   ]
  },
  {
   "cell_type": "markdown",
   "metadata": {},
   "source": [
    "Usually we want to group our output instead of rendering each token-level set in separate cells. You can tell CollateX to construct those groups by setting the value of the `segmentation` parameter to `True`—or by not specifying a value at all, since the default behavior is equal to the `True` value. We switched this option off in the example above to show that CollateX is aware of the individual token alignments, but in most cases you’ll want to leave segmentation on. When we collate again with segmentation, we see the default grouping:"
   ]
  },
  {
   "cell_type": "code",
   "execution_count": null,
   "metadata": {},
   "outputs": [],
   "source": [
    "alignment_table = collate(collation, layout='vertical' )"
   ]
  },
  {
   "cell_type": "code",
   "execution_count": null,
   "metadata": {},
   "outputs": [],
   "source": [
    "print( alignment_table )"
   ]
  },
  {
   "cell_type": "markdown",
   "metadata": {},
   "source": [
    "The aligment table visualization is CollateX's default way of rendering a collation result, but other supported output formats are `html`, `html2` (color-coded HTML), `xml` (a generic XML that can be processed further with XSLT), `tei` (also somewhat generic, but based on parallel segmentation), and `svg`. SVG outputs a *variant graph*, which shows the variation as a directed graph."
   ]
  },
  {
   "cell_type": "code",
   "execution_count": null,
   "metadata": {},
   "outputs": [],
   "source": [
    "graph = collate( collation, output=\"svg\", segmentation=True )"
   ]
  },
  {
   "cell_type": "markdown",
   "metadata": {},
   "source": [
    "We can perform the same operation with files that we read from the file system. Note that we specify `encoding=\"utf-8\"`."
   ]
  },
  {
   "cell_type": "code",
   "execution_count": null,
   "metadata": {},
   "outputs": [],
   "source": [
    "collation = Collation()\n",
    "witness_1859 = open( \"../fixtures/Darwin/txt/darwin1859_par1.txt\", encoding='utf-8' ).read()\n",
    "witness_1860 = open( \"../fixtures/Darwin/txt/darwin1860_par1.txt\", encoding='utf-8' ).read()\n",
    "witness_1861 = open( \"../fixtures/Darwin/txt/darwin1861_par1.txt\", encoding='utf-8' ).read()\n",
    "witness_1866 = open( \"../fixtures/Darwin/txt/darwin1866_par1.txt\", encoding='utf-8' ).read()\n",
    "witness_1869 = open( \"../fixtures/Darwin/txt/darwin1869_par1.txt\", encoding='utf-8' ).read()\n",
    "witness_1872 = open( \"../fixtures/Darwin/txt/darwin1872_par1.txt\", encoding='utf-8' ).read()\n",
    "collation.add_plain_witness( \"1859\", witness_1859 )\n",
    "collation.add_plain_witness( \"1860\", witness_1860 )\n",
    "collation.add_plain_witness( \"1861\", witness_1861 )\n",
    "collation.add_plain_witness( \"1866\", witness_1866 )\n",
    "collation.add_plain_witness( \"1869\", witness_1869 )\n",
    "collation.add_plain_witness( \"1872\", witness_1872 )"
   ]
  },
  {
   "cell_type": "markdown",
   "metadata": {},
   "source": [
    "Now let's check if these witnesses actually contain some text by printing a few of them."
   ]
  },
  {
   "cell_type": "code",
   "execution_count": null,
   "metadata": {},
   "outputs": [],
   "source": [
    "print( witness_1859 )"
   ]
  },
  {
   "cell_type": "code",
   "execution_count": null,
   "metadata": {},
   "outputs": [],
   "source": [
    "print( witness_1860 )"
   ]
  },
  {
   "cell_type": "markdown",
   "metadata": {},
   "source": [
    "And now let's collate those witnesses and let's put the result up as an HTML-formatted alignment table…"
   ]
  },
  {
   "cell_type": "code",
   "execution_count": null,
   "metadata": {},
   "outputs": [],
   "source": [
    "alignment_table = collate(collation, layout='vertical', output='html')"
   ]
  },
  {
   "cell_type": "markdown",
   "metadata": {},
   "source": [
    "Hmm… that is still a little hard to read. Wouldn't it be nice if we got a hint where the actual differences are? Sure, try…"
   ]
  },
  {
   "cell_type": "code",
   "execution_count": null,
   "metadata": {},
   "outputs": [],
   "source": [
    "alignment_table = collate(collation, layout='vertical', output='html2')"
   ]
  },
  {
   "cell_type": "markdown",
   "metadata": {},
   "source": [
    "And finally, we can also generate the variant graph for this collation…"
   ]
  },
  {
   "cell_type": "code",
   "execution_count": null,
   "metadata": {
    "scrolled": true
   },
   "outputs": [],
   "source": [
    "graph = collate( collation, output=\"svg\" )"
   ]
  },
  {
   "cell_type": "markdown",
   "metadata": {
    "collapsed": true
   },
   "source": [
    "**Note**: you may have noticed that **if you run the cells in an IPython notebook in order, they know about one another**. For this reason, in the end of this tutorial we could produce different outputs using the information typed into the previous cells. When you open a notebook, remember to run the cells in order or to \"run all cells\" (from the menu Cell), otherwise you may get an error message."
   ]
  }
 ],
 "metadata": {
  "kernelspec": {
   "display_name": "Python 3",
   "language": "python",
   "name": "python3"
  },
  "language_info": {
   "codemirror_mode": {
    "name": "ipython",
    "version": 3
   },
   "file_extension": ".py",
   "mimetype": "text/x-python",
   "name": "python",
   "nbconvert_exporter": "python",
   "pygments_lexer": "ipython3",
   "version": "3.6.5"
  }
 },
 "nbformat": 4,
 "nbformat_minor": 1
}
