{
 "cells": [
  {
   "cell_type": "markdown",
   "metadata": {},
   "source": [
    "# Normalization examples\n",
    "\n",
    "## Add stress to Russian words\n",
    "\n",
    "Note that this has nothing to do with collation. Normalization is a common step in computational pipelines \n",
    "\n",
    "1. Go to our [Web service to add stress to Russian text](http://cz.obdurodon.org/poem-input.html)\n",
    "2. Check all of the checkboxes under the textbox.\n",
    "2. Paste in a short Russian poem. You can copy the one below, or use your own:\n",
    "> На берегу пустынных волн  \n",
    "Стоял он, дум великих полн,  \n",
    "И вдаль глядел. Пред ним широко  \n",
    "Река неслася; бедный чёлн  \n",
    "По ней стремился одиноко.  \n",
    "По мшистым, топким берегам  \n",
    "Чернели избы здесь и там,  \n",
    "Приют убогого чухонца;  \n",
    "И лес, неведомый лучам  \n",
    "В тумане спрятанного солнца,  \n",
    "Кругом шумел.  \n",
    "3. Hit the **Submit** button\n",
    "\n",
    "## Multilingual collation\n",
    "\n",
    "### What it looks like\n",
    "\n",
    "![Aligning Greek and OCS](images/multilingual-collation.png \"Multilingual collation\")\n",
    "\n",
    "### How it works\n",
    "\n",
    "1. Use natural language processing (NLP) tools to tag individual words with linguistic information.\n",
    "2. Use the part of speech (POS) as the normalization value passed to CollateX.\n",
    "3. Align on the POS values, but output the originals.\n",
    "\n",
    "### What the linguistic tagging output looks like\n",
    "\n",
    "```xml\n",
    "<token id=\"1686779\"\n",
    "form=\"Блаженꙑи\"\n",
    "lemma=\"блаженъ\"\n",
    "part-of-speech=\"A-\"\n",
    "presentation-before=\"\"\n",
    "morphology=\"-s---mnpwi\"\n",
    "head-id=\"1686780\"\n",
    "relation=\"atr\"\n",
    "presentation-after=\" \"\n",
    "citation-part=\"8\"\n",
    "part=\"1\"\n",
    "folio=\"061\"\n",
    "side=\"r\"\n",
    "line=\"16\"\n",
    "linebreak=\"false\">\n",
    "```"
   ]
  },
  {
   "cell_type": "code",
   "execution_count": null,
   "metadata": {
    "collapsed": true
   },
   "outputs": [],
   "source": []
  }
 ],
 "metadata": {
  "kernelspec": {
   "display_name": "Python [Root]",
   "language": "python",
   "name": "Python [Root]"
  },
  "language_info": {
   "codemirror_mode": {
    "name": "ipython",
    "version": 3
   },
   "file_extension": ".py",
   "mimetype": "text/x-python",
   "name": "python",
   "nbconvert_exporter": "python",
   "pygments_lexer": "ipython3",
   "version": "3.5.2"
  }
 },
 "nbformat": 4,
 "nbformat_minor": 2
}
