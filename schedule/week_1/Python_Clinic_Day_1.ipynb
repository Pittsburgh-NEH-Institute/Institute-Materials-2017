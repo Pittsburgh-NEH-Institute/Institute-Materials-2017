{
 "cells": [
  {
   "cell_type": "markdown",
   "metadata": {},
   "source": [
    "\n",
    "# Python clinic day 1: Text processing\n",
    "\n",
    "Na-Rae Han ([naraehan@pitt.edu](mailto:naraehan@pitt.edu)), 2017-07-12, [Pittsburgh NEH Institute “Make Your Edition”](https://github.com/Pittsburgh-NEH-Institute/Institute-Materials-2017) "
   ]
  },
  {
   "cell_type": "markdown",
   "metadata": {},
   "source": [
    "## Preparation\n",
    "\n",
    "### Data\n",
    "\n",
    "- This tutorial is found in https://github.com/Pittsburgh-NEH-Institute/Institute-Materials-2017/tree/master/schedule/week_1\n",
    "- Download and unzip the “C-Span Inaugural Address Corpus”, available on NLTK’s corpora page: http://www.nltk.org/nltk_data/\n",
    "- Place the unzipped `inaugural` folder **on your desktop** \n",
    "\n",
    "### Jupyter tips\n",
    "\n",
    "- `Shift+ENTER` to run cell, go to next cell\n",
    "- `Alt+ENTER` to run cell, create a new cell below\n",
    "\n",
    "More on https://www.cheatography.com/weidadeyue/cheat-sheets/jupyter-notebook/"
   ]
  },
  {
   "cell_type": "markdown",
   "metadata": {},
   "source": [
    "## The very basics\n",
    "\n",
    "### First code\n",
    "\n",
    "* Printing a string, using `print()`. "
   ]
  },
  {
   "cell_type": "code",
   "execution_count": null,
   "metadata": {
    "collapsed": false
   },
   "outputs": [],
   "source": [
    "print(\"hello, world!\")"
   ]
  },
  {
   "cell_type": "markdown",
   "metadata": {
    "collapsed": true
   },
   "source": [
    "### Strings\n",
    "\n",
    "* String type objects are enclosed in quotation marks (\" or ').\n",
    "* \\+ is a concatenation operator.\n",
    "* Below, `greet` is a variable name assigned to a string value; note `OUT[]:` and the absence of quotation marks."
   ]
  },
  {
   "cell_type": "code",
   "execution_count": null,
   "metadata": {
    "collapsed": false
   },
   "outputs": [],
   "source": [
    "greet = \"Hello, world!\"\n",
    "greet = greet + \" I come in peace.\"\n",
    "greet"
   ]
  },
  {
   "cell_type": "markdown",
   "metadata": {},
   "source": [
    "* String methods such as `.upper()`, `.lower()` transform a string. \n",
    "* Unlike printing, the command **returns** a new string value. "
   ]
  },
  {
   "cell_type": "code",
   "execution_count": null,
   "metadata": {
    "collapsed": false,
    "scrolled": true
   },
   "outputs": [],
   "source": [
    "greet.upper()"
   ]
  },
  {
   "cell_type": "markdown",
   "metadata": {},
   "source": [
    "* `len()` returns the length of a string in the # of characters. "
   ]
  },
  {
   "cell_type": "code",
   "execution_count": null,
   "metadata": {
    "collapsed": false
   },
   "outputs": [],
   "source": [
    "len(greet)"
   ]
  },
  {
   "cell_type": "markdown",
   "metadata": {},
   "source": [
    "### Numbers\n",
    "\n",
    "* Integers and floats are written without quotes. \n",
    "* You can use algebraic operations such as `+`, `-`, `*` and `/` with numbers. "
   ]
  },
  {
   "cell_type": "code",
   "execution_count": null,
   "metadata": {
    "collapsed": false
   },
   "outputs": [],
   "source": [
    "num1 = 5678\n",
    "num2 = 3.141592\n",
    "result = num1 / num2\n",
    "print(num1, \"divided by\", num2, \"is\", result)"
   ]
  },
  {
   "cell_type": "markdown",
   "metadata": {},
   "source": [
    "### Lists\n",
    "* Lists are enclosed in `[ ]`, with elements separated with commas. Lists can contain strings, numbers, and more. \n",
    "* As with string, you can use `len()` to get the size of a list. \n",
    "* As with string, you can use `in` to see whether an element is in a list. "
   ]
  },
  {
   "cell_type": "code",
   "execution_count": null,
   "metadata": {
    "collapsed": false
   },
   "outputs": [],
   "source": [
    "li = ['red', 'blue', 'green', 'black', 'white', 'pink']\n",
    "len(li)"
   ]
  },
  {
   "cell_type": "code",
   "execution_count": null,
   "metadata": {
    "collapsed": false
   },
   "outputs": [],
   "source": [
    "# Try logical operators not, and, or\n",
    "'mauve' in li"
   ]
  },
  {
   "cell_type": "markdown",
   "metadata": {},
   "source": [
    "* A list can be indexed through `li[i]`. Python indexes starts with 0. \n",
    "* A list can be sliced: `li[3:5]` returns a sub-list beginning with index 3 up to and not including index 5. "
   ]
  },
  {
   "cell_type": "code",
   "execution_count": null,
   "metadata": {
    "collapsed": false
   },
   "outputs": [],
   "source": [
    "# Try [0], [2], [-1], [3:5], [3:], [:5]\n",
    "li[4]"
   ]
  },
  {
   "cell_type": "markdown",
   "metadata": {},
   "source": [
    "### `for` loop\n",
    "* Using a `for` loop, you can loop through a list of items, applying the same set of operations to each element. \n",
    "* The embedded code block is marked with indentation. "
   ]
  },
  {
   "cell_type": "code",
   "execution_count": null,
   "metadata": {
    "collapsed": false
   },
   "outputs": [],
   "source": [
    "for x in li :\n",
    "    print(x, \"is\", len(x), \"characters long.\")\n",
    "print(\"Done!\")"
   ]
  },
  {
   "cell_type": "markdown",
   "metadata": {},
   "source": [
    "### List comprehension\n",
    "* List comprehension builds a new list from an existing list. \n",
    "* You can filter to include only certain elements, and you can apply transformationa in the process.\n",
    "* Try: `.upper()`, `len()`, `+'ish'`"
   ]
  },
  {
   "cell_type": "code",
   "execution_count": null,
   "metadata": {
    "collapsed": false
   },
   "outputs": [],
   "source": [
    "# filter\n",
    "[x for x in li if x.endswith('e')]"
   ]
  },
  {
   "cell_type": "code",
   "execution_count": null,
   "metadata": {
    "collapsed": false
   },
   "outputs": [],
   "source": [
    "# transform\n",
    "[x+'ish' for x in li]"
   ]
  },
  {
   "cell_type": "code",
   "execution_count": null,
   "metadata": {
    "collapsed": false
   },
   "outputs": [],
   "source": [
    "# filter and transform\n",
    "[x.upper() for x in li if len(x)>=5]"
   ]
  },
  {
   "cell_type": "markdown",
   "metadata": {},
   "source": [
    "### Dictionaries\n",
    "- Dictionaries hold **key:value** mappings. \n",
    "- `len()` on dictionary returns the number of keys. \n",
    "- Looping over a dictionary means looping over its keys. "
   ]
  },
  {
   "cell_type": "code",
   "execution_count": null,
   "metadata": {
    "collapsed": false
   },
   "outputs": [],
   "source": [
    "di = {'Homer':35, 'Marge':35, 'Bart':10, 'Lisa':8}\n",
    "di['Lisa']"
   ]
  },
  {
   "cell_type": "code",
   "execution_count": null,
   "metadata": {
    "collapsed": false
   },
   "outputs": [],
   "source": [
    "# 20 years-old or younger. x is bound to keys. \n",
    "[x for x in di if di[x] <= 20]"
   ]
  },
  {
   "cell_type": "code",
   "execution_count": null,
   "metadata": {
    "collapsed": false
   },
   "outputs": [],
   "source": [
    "len(di)"
   ]
  },
  {
   "cell_type": "markdown",
   "metadata": {},
   "source": [
    "## Using NLTK\n",
    "\n",
    "* NLTK ([Natural Language Toolkit](http://www.nltk.org/)) is an external module; you can start using it after importing it. \n",
    "* `nltk.word_tokenize()` is a handy tokenizing function, one of hundreds available in NLTK.\n",
    "* `nltk.word_tokenize()` turns a text (a single string) into a list of word tokens (that is, a list of words, punctuation, etc.). "
   ]
  },
  {
   "cell_type": "code",
   "execution_count": null,
   "metadata": {
    "collapsed": true
   },
   "outputs": [],
   "source": [
    "import nltk"
   ]
  },
  {
   "cell_type": "code",
   "execution_count": null,
   "metadata": {
    "collapsed": false
   },
   "outputs": [],
   "source": [
    "nltk.word_tokenize(greet)"
   ]
  },
  {
   "cell_type": "code",
   "execution_count": null,
   "metadata": {
    "collapsed": false
   },
   "outputs": [],
   "source": [
    "help(nltk.word_tokenize)"
   ]
  },
  {
   "cell_type": "code",
   "execution_count": null,
   "metadata": {
    "collapsed": false
   },
   "outputs": [],
   "source": [
    "sent = \"You haven't seen Star Wars...?\"\n",
    "nltk.word_tokenize(sent)"
   ]
  },
  {
   "cell_type": "markdown",
   "metadata": {},
   "source": [
    "* `nltk.FreqDist()` is is another useful NLTK function. \n",
    "* It builds a frequency count dictionary from a list. "
   ]
  },
  {
   "cell_type": "code",
   "execution_count": null,
   "metadata": {
    "collapsed": false
   },
   "outputs": [],
   "source": [
    "# First \"Rose\" is capitalized. How to lowercase? \n",
    "sent = 'Rose is a rose is a rose is a rose.'\n",
    "toks = nltk.word_tokenize(sent)\n",
    "print(toks)"
   ]
  },
  {
   "cell_type": "code",
   "execution_count": null,
   "metadata": {
    "collapsed": false
   },
   "outputs": [],
   "source": [
    "freq = nltk.FreqDist(toks)\n",
    "freq"
   ]
  },
  {
   "cell_type": "code",
   "execution_count": null,
   "metadata": {
    "collapsed": false
   },
   "outputs": [],
   "source": [
    "freq.most_common(3)"
   ]
  },
  {
   "cell_type": "code",
   "execution_count": null,
   "metadata": {
    "collapsed": false
   },
   "outputs": [],
   "source": [
    "freq['rose']"
   ]
  },
  {
   "cell_type": "code",
   "execution_count": null,
   "metadata": {
    "collapsed": false
   },
   "outputs": [],
   "source": [
    "len(freq)"
   ]
  },
  {
   "cell_type": "markdown",
   "metadata": {},
   "source": [
    "## Processing a single text file\n",
    "\n",
    "### Reading in a text file\n",
    "* `open(filename).read()` reads in the content of a text file as a single continuous string. "
   ]
  },
  {
   "cell_type": "code",
   "execution_count": null,
   "metadata": {
    "collapsed": true
   },
   "outputs": [],
   "source": [
    "myfile = 'C:/Users/narae/Desktop/inaugural/1789-Washington.txt'  # Use your own userid; Mac users should omit C:\n",
    "wtxt = open(myfile).read()\n",
    "print(wtxt)"
   ]
  },
  {
   "cell_type": "code",
   "execution_count": null,
   "metadata": {
    "collapsed": true
   },
   "outputs": [],
   "source": [
    "len(wtxt)     # Number of characters in text"
   ]
  },
  {
   "cell_type": "code",
   "execution_count": null,
   "metadata": {
    "collapsed": true
   },
   "outputs": [],
   "source": [
    "'fellow citizens' in wtxt  # phrase as a substring. try \"Americans\""
   ]
  },
  {
   "cell_type": "code",
   "execution_count": null,
   "metadata": {
    "collapsed": true
   },
   "outputs": [],
   "source": [
    "'th' in wtxt"
   ]
  },
  {
   "cell_type": "markdown",
   "metadata": {},
   "source": [
    "### Tokenize text, compile frequency count"
   ]
  },
  {
   "cell_type": "code",
   "execution_count": null,
   "metadata": {
    "collapsed": false
   },
   "outputs": [],
   "source": [
    "# Turn off/on pretty printing (prints too many lines)\n",
    "%pprint    "
   ]
  },
  {
   "cell_type": "code",
   "execution_count": null,
   "metadata": {
    "collapsed": false
   },
   "outputs": [],
   "source": [
    "# Tokenize text\n",
    "nltk.word_tokenize(wtxt)"
   ]
  },
  {
   "cell_type": "code",
   "execution_count": null,
   "metadata": {
    "collapsed": true
   },
   "outputs": [],
   "source": [
    "wtokens = nltk.word_tokenize(wtxt)\n",
    "len(wtokens)     # Number of words in text"
   ]
  },
  {
   "cell_type": "code",
   "execution_count": null,
   "metadata": {
    "collapsed": true
   },
   "outputs": [],
   "source": [
    "# Build a dictionary of frequency count\n",
    "wfreq = nltk.FreqDist(wtokens)\n",
    "wfreq['the']"
   ]
  },
  {
   "cell_type": "code",
   "execution_count": null,
   "metadata": {
    "collapsed": true
   },
   "outputs": [],
   "source": [
    "wfreq['we']"
   ]
  },
  {
   "cell_type": "code",
   "execution_count": null,
   "metadata": {
    "collapsed": true
   },
   "outputs": [],
   "source": [
    "len(wfreq)      # Number of unique words in text"
   ]
  },
  {
   "cell_type": "code",
   "execution_count": null,
   "metadata": {
    "collapsed": true,
    "scrolled": true
   },
   "outputs": [],
   "source": [
    "wfreq.most_common(40)     # 40 most common words"
   ]
  },
  {
   "cell_type": "markdown",
   "metadata": {},
   "source": [
    "## More tomorrow\n",
    "\n",
    "- How long are Washington’s sentences on average? \n",
    "- Which long words did he use, and how frequent were they? \n",
    "- Processing the entire Inaugural Address corpus\n",
    "    - Which inaugural speech was the longest? The shortest?\n",
    "    - Which presidents favored long sentences?\n",
    "\n",
    "All answered in [Python Clinic Day 2: Corpus Processing](Python Clinic Day 2.ipynb)"
   ]
  }
 ],
 "metadata": {
  "kernelspec": {
   "display_name": "Python 3",
   "language": "python",
   "name": "python3"
  },
  "language_info": {
   "codemirror_mode": {
    "name": "ipython",
    "version": 3
   },
   "file_extension": ".py",
   "mimetype": "text/x-python",
   "name": "python",
   "nbconvert_exporter": "python",
   "pygments_lexer": "ipython3",
   "version": "3.5.1"
  }
 },
 "nbformat": 4,
 "nbformat_minor": 1
}
